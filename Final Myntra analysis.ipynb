{
 "cells": [
  {
   "cell_type": "code",
   "execution_count": 2,
   "id": "68766962",
   "metadata": {},
   "outputs": [],
   "source": [
    "import pandas as pd\n",
    "import numpy as np\n",
    "from matplotlib import pyplot as plt\n",
    "import seaborn as sns"
   ]
  },
  {
   "cell_type": "code",
   "execution_count": 3,
   "id": "905d471b",
   "metadata": {},
   "outputs": [
    {
     "data": {
      "text/html": [
       "<div>\n",
       "<style scoped>\n",
       "    .dataframe tbody tr th:only-of-type {\n",
       "        vertical-align: middle;\n",
       "    }\n",
       "\n",
       "    .dataframe tbody tr th {\n",
       "        vertical-align: top;\n",
       "    }\n",
       "\n",
       "    .dataframe thead th {\n",
       "        text-align: right;\n",
       "    }\n",
       "</style>\n",
       "<table border=\"1\" class=\"dataframe\">\n",
       "  <thead>\n",
       "    <tr style=\"text-align: right;\">\n",
       "      <th></th>\n",
       "      <th>product_name</th>\n",
       "      <th>brand_name</th>\n",
       "      <th>rating</th>\n",
       "      <th>rating_count</th>\n",
       "      <th>marked_price</th>\n",
       "      <th>discounted_price</th>\n",
       "      <th>sizes</th>\n",
       "      <th>product_link</th>\n",
       "      <th>img_link</th>\n",
       "      <th>product_tag</th>\n",
       "      <th>brand_tag</th>\n",
       "      <th>discount_amount</th>\n",
       "      <th>discount_percent</th>\n",
       "    </tr>\n",
       "  </thead>\n",
       "  <tbody>\n",
       "    <tr>\n",
       "      <th>0</th>\n",
       "      <td>Croc Textured Two Fold Wallet</td>\n",
       "      <td>Lino Perros</td>\n",
       "      <td>0.0</td>\n",
       "      <td>0</td>\n",
       "      <td>1295</td>\n",
       "      <td>828</td>\n",
       "      <td>Onesize</td>\n",
       "      <td>wallets/lino-perros/lino-perros-women-peach-co...</td>\n",
       "      <td>https://assets.myntassets.com/dpr_2,q_60,w_210...</td>\n",
       "      <td>wallets</td>\n",
       "      <td>lino-perros</td>\n",
       "      <td>467</td>\n",
       "      <td>36</td>\n",
       "    </tr>\n",
       "    <tr>\n",
       "      <th>1</th>\n",
       "      <td>Men Striped Sliders</td>\n",
       "      <td>Mast &amp; Harbour</td>\n",
       "      <td>4.0</td>\n",
       "      <td>76</td>\n",
       "      <td>1299</td>\n",
       "      <td>584</td>\n",
       "      <td>UK6,UK7,UK8,UK9,UK10,UK11</td>\n",
       "      <td>flip-flops/mast--harbour/mast--harbour-men-nav...</td>\n",
       "      <td>https://assets.myntassets.com/dpr_2,q_60,w_210...</td>\n",
       "      <td>flip-flops</td>\n",
       "      <td>mast--harbour</td>\n",
       "      <td>715</td>\n",
       "      <td>55</td>\n",
       "    </tr>\n",
       "    <tr>\n",
       "      <th>2</th>\n",
       "      <td>Printed A-line Kurta</td>\n",
       "      <td>Biba</td>\n",
       "      <td>4.3</td>\n",
       "      <td>66</td>\n",
       "      <td>1999</td>\n",
       "      <td>1599</td>\n",
       "      <td>S,M,L,XL,XXL,3XL</td>\n",
       "      <td>kurtas/biba/biba-women-off-white--black-printe...</td>\n",
       "      <td>https://assets.myntassets.com/dpr_2,q_60,w_210...</td>\n",
       "      <td>kurtas</td>\n",
       "      <td>biba</td>\n",
       "      <td>400</td>\n",
       "      <td>20</td>\n",
       "    </tr>\n",
       "    <tr>\n",
       "      <th>3</th>\n",
       "      <td>Girls Floral Printed T-shirt</td>\n",
       "      <td>Anthrilo</td>\n",
       "      <td>0.0</td>\n",
       "      <td>0</td>\n",
       "      <td>599</td>\n",
       "      <td>539</td>\n",
       "      <td>7-8Y,8-9Y,9-10Y</td>\n",
       "      <td>tshirts/anthrilo/anthrilo-girls-white-floral-p...</td>\n",
       "      <td>https://assets.myntassets.com/dpr_2,q_60,w_210...</td>\n",
       "      <td>tshirts</td>\n",
       "      <td>anthrilo</td>\n",
       "      <td>60</td>\n",
       "      <td>10</td>\n",
       "    </tr>\n",
       "    <tr>\n",
       "      <th>4</th>\n",
       "      <td>Women Printed Kurta with Skirt</td>\n",
       "      <td>FASHION DWAR</td>\n",
       "      <td>0.0</td>\n",
       "      <td>0</td>\n",
       "      <td>2899</td>\n",
       "      <td>2899</td>\n",
       "      <td>S,M,L,XL</td>\n",
       "      <td>kurta-sets/fashion-dwar/fashion-dwar-women-mul...</td>\n",
       "      <td>https://assets.myntassets.com/dpr_2,q_60,w_210...</td>\n",
       "      <td>kurta-sets</td>\n",
       "      <td>fashion-dwar</td>\n",
       "      <td>0</td>\n",
       "      <td>0</td>\n",
       "    </tr>\n",
       "  </tbody>\n",
       "</table>\n",
       "</div>"
      ],
      "text/plain": [
       "                     product_name      brand_name  rating  rating_count  \\\n",
       "0   Croc Textured Two Fold Wallet     Lino Perros     0.0             0   \n",
       "1             Men Striped Sliders  Mast & Harbour     4.0            76   \n",
       "2            Printed A-line Kurta            Biba     4.3            66   \n",
       "3    Girls Floral Printed T-shirt        Anthrilo     0.0             0   \n",
       "4  Women Printed Kurta with Skirt    FASHION DWAR     0.0             0   \n",
       "\n",
       "   marked_price  discounted_price                      sizes  \\\n",
       "0          1295               828                    Onesize   \n",
       "1          1299               584  UK6,UK7,UK8,UK9,UK10,UK11   \n",
       "2          1999              1599           S,M,L,XL,XXL,3XL   \n",
       "3           599               539            7-8Y,8-9Y,9-10Y   \n",
       "4          2899              2899                   S,M,L,XL   \n",
       "\n",
       "                                        product_link  \\\n",
       "0  wallets/lino-perros/lino-perros-women-peach-co...   \n",
       "1  flip-flops/mast--harbour/mast--harbour-men-nav...   \n",
       "2  kurtas/biba/biba-women-off-white--black-printe...   \n",
       "3  tshirts/anthrilo/anthrilo-girls-white-floral-p...   \n",
       "4  kurta-sets/fashion-dwar/fashion-dwar-women-mul...   \n",
       "\n",
       "                                            img_link product_tag  \\\n",
       "0  https://assets.myntassets.com/dpr_2,q_60,w_210...     wallets   \n",
       "1  https://assets.myntassets.com/dpr_2,q_60,w_210...  flip-flops   \n",
       "2  https://assets.myntassets.com/dpr_2,q_60,w_210...      kurtas   \n",
       "3  https://assets.myntassets.com/dpr_2,q_60,w_210...     tshirts   \n",
       "4  https://assets.myntassets.com/dpr_2,q_60,w_210...  kurta-sets   \n",
       "\n",
       "       brand_tag  discount_amount  discount_percent  \n",
       "0    lino-perros              467                36  \n",
       "1  mast--harbour              715                55  \n",
       "2           biba              400                20  \n",
       "3       anthrilo               60                10  \n",
       "4   fashion-dwar                0                 0  "
      ]
     },
     "execution_count": 3,
     "metadata": {},
     "output_type": "execute_result"
    }
   ],
   "source": [
    "df = pd.read_csv(\"myntra_data.csv\")\n",
    "df.head()"
   ]
  },
  {
   "cell_type": "markdown",
   "id": "b540201d",
   "metadata": {},
   "source": [
    "# Data Cleaning\n",
    "1. Check duplicate rows and remove them and reset index after removing them.\n",
    "2. Check null values and remove them.\n",
    "3. Drop extra columns which are not useful for analysis.\n",
    "4. Add new column product id using information from product link.\n",
    "5. Remove common rows having same product id (since there is not much difference except other row has one extra rating count)"
   ]
  },
  {
   "cell_type": "code",
   "execution_count": 4,
   "id": "5d5a6ffc",
   "metadata": {},
   "outputs": [
    {
     "data": {
      "text/plain": [
       "(168029, 13)"
      ]
     },
     "execution_count": 4,
     "metadata": {},
     "output_type": "execute_result"
    }
   ],
   "source": [
    "df.shape"
   ]
  },
  {
   "cell_type": "code",
   "execution_count": 5,
   "id": "2f1f2de5",
   "metadata": {},
   "outputs": [],
   "source": [
    "df = df.drop_duplicates().reset_index()"
   ]
  },
  {
   "cell_type": "code",
   "execution_count": 6,
   "id": "8fb52018",
   "metadata": {},
   "outputs": [
    {
     "data": {
      "text/plain": [
       "(146611, 14)"
      ]
     },
     "execution_count": 6,
     "metadata": {},
     "output_type": "execute_result"
    }
   ],
   "source": [
    "df.shape"
   ]
  },
  {
   "cell_type": "code",
   "execution_count": 7,
   "id": "8ed87b33",
   "metadata": {},
   "outputs": [
    {
     "data": {
      "text/plain": [
       "index               0\n",
       "product_name        0\n",
       "brand_name          0\n",
       "rating              0\n",
       "rating_count        0\n",
       "marked_price        0\n",
       "discounted_price    0\n",
       "sizes               0\n",
       "product_link        0\n",
       "img_link            0\n",
       "product_tag         0\n",
       "brand_tag           0\n",
       "discount_amount     0\n",
       "discount_percent    0\n",
       "dtype: int64"
      ]
     },
     "execution_count": 7,
     "metadata": {},
     "output_type": "execute_result"
    }
   ],
   "source": [
    "df.isnull().sum()"
   ]
  },
  {
   "cell_type": "markdown",
   "id": "2dd7fbfa",
   "metadata": {},
   "source": [
    "There is no null values in the given data. "
   ]
  },
  {
   "cell_type": "code",
   "execution_count": 8,
   "id": "cd05b75e",
   "metadata": {},
   "outputs": [
    {
     "data": {
      "text/html": [
       "<div>\n",
       "<style scoped>\n",
       "    .dataframe tbody tr th:only-of-type {\n",
       "        vertical-align: middle;\n",
       "    }\n",
       "\n",
       "    .dataframe tbody tr th {\n",
       "        vertical-align: top;\n",
       "    }\n",
       "\n",
       "    .dataframe thead th {\n",
       "        text-align: right;\n",
       "    }\n",
       "</style>\n",
       "<table border=\"1\" class=\"dataframe\">\n",
       "  <thead>\n",
       "    <tr style=\"text-align: right;\">\n",
       "      <th></th>\n",
       "      <th>index</th>\n",
       "      <th>rating</th>\n",
       "      <th>rating_count</th>\n",
       "      <th>marked_price</th>\n",
       "      <th>discounted_price</th>\n",
       "      <th>discount_amount</th>\n",
       "      <th>discount_percent</th>\n",
       "    </tr>\n",
       "  </thead>\n",
       "  <tbody>\n",
       "    <tr>\n",
       "      <th>count</th>\n",
       "      <td>146611.000000</td>\n",
       "      <td>146611.000000</td>\n",
       "      <td>146611.000000</td>\n",
       "      <td>146611.000000</td>\n",
       "      <td>146611.000000</td>\n",
       "      <td>146611.000000</td>\n",
       "      <td>146611.000000</td>\n",
       "    </tr>\n",
       "    <tr>\n",
       "      <th>mean</th>\n",
       "      <td>85576.100115</td>\n",
       "      <td>2.317154</td>\n",
       "      <td>123.589219</td>\n",
       "      <td>2525.860379</td>\n",
       "      <td>1532.622675</td>\n",
       "      <td>993.237704</td>\n",
       "      <td>37.147765</td>\n",
       "    </tr>\n",
       "    <tr>\n",
       "      <th>std</th>\n",
       "      <td>48874.743753</td>\n",
       "      <td>2.097438</td>\n",
       "      <td>817.995615</td>\n",
       "      <td>2437.720930</td>\n",
       "      <td>1842.427134</td>\n",
       "      <td>1235.525991</td>\n",
       "      <td>24.594289</td>\n",
       "    </tr>\n",
       "    <tr>\n",
       "      <th>min</th>\n",
       "      <td>0.000000</td>\n",
       "      <td>0.000000</td>\n",
       "      <td>0.000000</td>\n",
       "      <td>50.000000</td>\n",
       "      <td>49.000000</td>\n",
       "      <td>0.000000</td>\n",
       "      <td>0.000000</td>\n",
       "    </tr>\n",
       "    <tr>\n",
       "      <th>25%</th>\n",
       "      <td>43864.500000</td>\n",
       "      <td>0.000000</td>\n",
       "      <td>0.000000</td>\n",
       "      <td>1299.000000</td>\n",
       "      <td>679.000000</td>\n",
       "      <td>210.000000</td>\n",
       "      <td>15.000000</td>\n",
       "    </tr>\n",
       "    <tr>\n",
       "      <th>50%</th>\n",
       "      <td>87959.000000</td>\n",
       "      <td>3.600000</td>\n",
       "      <td>6.000000</td>\n",
       "      <td>1999.000000</td>\n",
       "      <td>1012.000000</td>\n",
       "      <td>702.000000</td>\n",
       "      <td>40.000000</td>\n",
       "    </tr>\n",
       "    <tr>\n",
       "      <th>75%</th>\n",
       "      <td>127645.500000</td>\n",
       "      <td>4.300000</td>\n",
       "      <td>34.000000</td>\n",
       "      <td>2999.000000</td>\n",
       "      <td>1749.000000</td>\n",
       "      <td>1317.000000</td>\n",
       "      <td>59.000000</td>\n",
       "    </tr>\n",
       "    <tr>\n",
       "      <th>max</th>\n",
       "      <td>167991.000000</td>\n",
       "      <td>5.000000</td>\n",
       "      <td>55900.000000</td>\n",
       "      <td>113999.000000</td>\n",
       "      <td>45900.000000</td>\n",
       "      <td>68400.000000</td>\n",
       "      <td>91.000000</td>\n",
       "    </tr>\n",
       "  </tbody>\n",
       "</table>\n",
       "</div>"
      ],
      "text/plain": [
       "               index         rating   rating_count   marked_price  \\\n",
       "count  146611.000000  146611.000000  146611.000000  146611.000000   \n",
       "mean    85576.100115       2.317154     123.589219    2525.860379   \n",
       "std     48874.743753       2.097438     817.995615    2437.720930   \n",
       "min         0.000000       0.000000       0.000000      50.000000   \n",
       "25%     43864.500000       0.000000       0.000000    1299.000000   \n",
       "50%     87959.000000       3.600000       6.000000    1999.000000   \n",
       "75%    127645.500000       4.300000      34.000000    2999.000000   \n",
       "max    167991.000000       5.000000   55900.000000  113999.000000   \n",
       "\n",
       "       discounted_price  discount_amount  discount_percent  \n",
       "count     146611.000000    146611.000000     146611.000000  \n",
       "mean        1532.622675       993.237704         37.147765  \n",
       "std         1842.427134      1235.525991         24.594289  \n",
       "min           49.000000         0.000000          0.000000  \n",
       "25%          679.000000       210.000000         15.000000  \n",
       "50%         1012.000000       702.000000         40.000000  \n",
       "75%         1749.000000      1317.000000         59.000000  \n",
       "max        45900.000000     68400.000000         91.000000  "
      ]
     },
     "execution_count": 8,
     "metadata": {},
     "output_type": "execute_result"
    }
   ],
   "source": [
    "df.describe()"
   ]
  },
  {
   "cell_type": "code",
   "execution_count": 9,
   "id": "48f3e66e",
   "metadata": {},
   "outputs": [],
   "source": [
    "df = df.drop([\"img_link\", \"brand_tag\", \"index\"], axis = 1)"
   ]
  },
  {
   "cell_type": "code",
   "execution_count": 10,
   "id": "ae1d23ff",
   "metadata": {},
   "outputs": [
    {
     "data": {
      "text/plain": [
       "(146611, 11)"
      ]
     },
     "execution_count": 10,
     "metadata": {},
     "output_type": "execute_result"
    }
   ],
   "source": [
    "df.shape"
   ]
  },
  {
   "cell_type": "code",
   "execution_count": 11,
   "id": "27fa2b6d",
   "metadata": {},
   "outputs": [],
   "source": [
    "df[\"product_link\"] = df[\"product_link\"].str.split(\"/\")"
   ]
  },
  {
   "cell_type": "code",
   "execution_count": 12,
   "id": "e37500b2",
   "metadata": {},
   "outputs": [
    {
     "data": {
      "text/plain": [
       "['wallets',\n",
       " 'lino-perros',\n",
       " 'lino-perros-women-peach-coloured-croc-textured-two-fold-wallet',\n",
       " '18070682',\n",
       " 'buy']"
      ]
     },
     "execution_count": 12,
     "metadata": {},
     "output_type": "execute_result"
    }
   ],
   "source": [
    "df[\"product_link\"][0]"
   ]
  },
  {
   "cell_type": "code",
   "execution_count": 13,
   "id": "406345ed",
   "metadata": {},
   "outputs": [],
   "source": [
    "list = [df[\"product_link\"][i][3] for i in range(len(df[\"product_link\"]))]"
   ]
  },
  {
   "cell_type": "code",
   "execution_count": 14,
   "id": "4f9c280e",
   "metadata": {},
   "outputs": [],
   "source": [
    "product = pd.Series(list)\n",
    "df[\"Product_id\"]= product.values"
   ]
  },
  {
   "cell_type": "code",
   "execution_count": 15,
   "id": "42599195",
   "metadata": {},
   "outputs": [],
   "source": [
    "df =df.loc[:,[\"Product_id\",\"product_name\",\"brand_name\",\"rating\",\"rating_count\",\"marked_price\",\"discounted_price\",\"discount_amount\",\"discount_percent\",\"sizes\",\"product_link\",\"product_tag\"]]"
   ]
  },
  {
   "cell_type": "code",
   "execution_count": 16,
   "id": "37969cb3",
   "metadata": {},
   "outputs": [],
   "source": [
    "df = df.drop(\"product_link\", axis = 1)"
   ]
  },
  {
   "cell_type": "code",
   "execution_count": 17,
   "id": "bfde65ff",
   "metadata": {},
   "outputs": [
    {
     "data": {
      "text/plain": [
       "Product_id\n",
       "10347227    2\n",
       "14036012    2\n",
       "15342644    2\n",
       "18008078    2\n",
       "14984314    2\n",
       "           ..\n",
       "15609358    1\n",
       "15609340    1\n",
       "15609328    1\n",
       "15609308    1\n",
       "9996453     1\n",
       "Length: 146435, dtype: int64"
      ]
     },
     "execution_count": 17,
     "metadata": {},
     "output_type": "execute_result"
    }
   ],
   "source": [
    "df.value_counts(\"Product_id\")"
   ]
  },
  {
   "cell_type": "code",
   "execution_count": 18,
   "id": "465270b2",
   "metadata": {},
   "outputs": [
    {
     "data": {
      "text/html": [
       "<div>\n",
       "<style scoped>\n",
       "    .dataframe tbody tr th:only-of-type {\n",
       "        vertical-align: middle;\n",
       "    }\n",
       "\n",
       "    .dataframe tbody tr th {\n",
       "        vertical-align: top;\n",
       "    }\n",
       "\n",
       "    .dataframe thead th {\n",
       "        text-align: right;\n",
       "    }\n",
       "</style>\n",
       "<table border=\"1\" class=\"dataframe\">\n",
       "  <thead>\n",
       "    <tr style=\"text-align: right;\">\n",
       "      <th></th>\n",
       "      <th>Product_id</th>\n",
       "      <th>product_name</th>\n",
       "      <th>brand_name</th>\n",
       "      <th>rating</th>\n",
       "      <th>rating_count</th>\n",
       "      <th>marked_price</th>\n",
       "      <th>discounted_price</th>\n",
       "      <th>discount_amount</th>\n",
       "      <th>discount_percent</th>\n",
       "      <th>sizes</th>\n",
       "      <th>product_tag</th>\n",
       "    </tr>\n",
       "  </thead>\n",
       "  <tbody>\n",
       "    <tr>\n",
       "      <th>22661</th>\n",
       "      <td>14984314</td>\n",
       "      <td>Boys Pack Of 5 Joggers</td>\n",
       "      <td>LilPicks</td>\n",
       "      <td>4.3</td>\n",
       "      <td>51</td>\n",
       "      <td>2699</td>\n",
       "      <td>1619</td>\n",
       "      <td>1080</td>\n",
       "      <td>40</td>\n",
       "      <td>2-3Y,3-4Y,4-5Y,5-6Y,6-7Y</td>\n",
       "      <td>track-pants</td>\n",
       "    </tr>\n",
       "    <tr>\n",
       "      <th>30699</th>\n",
       "      <td>14984314</td>\n",
       "      <td>Boys Pack Of 5 Joggers</td>\n",
       "      <td>LilPicks</td>\n",
       "      <td>4.3</td>\n",
       "      <td>52</td>\n",
       "      <td>2699</td>\n",
       "      <td>1619</td>\n",
       "      <td>1080</td>\n",
       "      <td>40</td>\n",
       "      <td>2-3Y,3-4Y,4-5Y,5-6Y,6-7Y</td>\n",
       "      <td>track-pants</td>\n",
       "    </tr>\n",
       "  </tbody>\n",
       "</table>\n",
       "</div>"
      ],
      "text/plain": [
       "      Product_id            product_name brand_name  rating  rating_count  \\\n",
       "22661   14984314  Boys Pack Of 5 Joggers   LilPicks     4.3            51   \n",
       "30699   14984314  Boys Pack Of 5 Joggers   LilPicks     4.3            52   \n",
       "\n",
       "       marked_price  discounted_price  discount_amount  discount_percent  \\\n",
       "22661          2699              1619             1080                40   \n",
       "30699          2699              1619             1080                40   \n",
       "\n",
       "                          sizes  product_tag  \n",
       "22661  2-3Y,3-4Y,4-5Y,5-6Y,6-7Y  track-pants  \n",
       "30699  2-3Y,3-4Y,4-5Y,5-6Y,6-7Y  track-pants  "
      ]
     },
     "execution_count": 18,
     "metadata": {},
     "output_type": "execute_result"
    }
   ],
   "source": [
    "df[df[\"Product_id\"]==\"14984314\"]"
   ]
  },
  {
   "cell_type": "code",
   "execution_count": 19,
   "id": "de8dfdf0",
   "metadata": {},
   "outputs": [
    {
     "data": {
      "text/plain": [
       "(146611, 11)"
      ]
     },
     "execution_count": 19,
     "metadata": {},
     "output_type": "execute_result"
    }
   ],
   "source": [
    "df.shape"
   ]
  },
  {
   "cell_type": "code",
   "execution_count": 20,
   "id": "3d2ee3ad",
   "metadata": {},
   "outputs": [],
   "source": [
    "df = df.drop_duplicates(\"Product_id\")"
   ]
  },
  {
   "cell_type": "code",
   "execution_count": 21,
   "id": "8cbc4c30",
   "metadata": {},
   "outputs": [
    {
     "data": {
      "text/plain": [
       "(146435, 11)"
      ]
     },
     "execution_count": 21,
     "metadata": {},
     "output_type": "execute_result"
    }
   ],
   "source": [
    "df.shape"
   ]
  },
  {
   "cell_type": "code",
   "execution_count": 22,
   "id": "65290b5f",
   "metadata": {},
   "outputs": [
    {
     "name": "stdout",
     "output_type": "stream",
     "text": [
      "<class 'pandas.core.frame.DataFrame'>\n",
      "Int64Index: 146435 entries, 0 to 146610\n",
      "Data columns (total 11 columns):\n",
      " #   Column            Non-Null Count   Dtype  \n",
      "---  ------            --------------   -----  \n",
      " 0   Product_id        146435 non-null  object \n",
      " 1   product_name      146435 non-null  object \n",
      " 2   brand_name        146435 non-null  object \n",
      " 3   rating            146435 non-null  float64\n",
      " 4   rating_count      146435 non-null  int64  \n",
      " 5   marked_price      146435 non-null  int64  \n",
      " 6   discounted_price  146435 non-null  int64  \n",
      " 7   discount_amount   146435 non-null  int64  \n",
      " 8   discount_percent  146435 non-null  int64  \n",
      " 9   sizes             146435 non-null  object \n",
      " 10  product_tag       146435 non-null  object \n",
      "dtypes: float64(1), int64(5), object(5)\n",
      "memory usage: 13.4+ MB\n"
     ]
    }
   ],
   "source": [
    "df.info()"
   ]
  },
  {
   "cell_type": "markdown",
   "id": "58ba82d0",
   "metadata": {},
   "source": [
    "# Univariate Analysis"
   ]
  },
  {
   "cell_type": "code",
   "execution_count": 23,
   "id": "8bc00b85",
   "metadata": {
    "scrolled": true
   },
   "outputs": [
    {
     "data": {
      "text/html": [
       "<div>\n",
       "<style scoped>\n",
       "    .dataframe tbody tr th:only-of-type {\n",
       "        vertical-align: middle;\n",
       "    }\n",
       "\n",
       "    .dataframe tbody tr th {\n",
       "        vertical-align: top;\n",
       "    }\n",
       "\n",
       "    .dataframe thead th {\n",
       "        text-align: right;\n",
       "    }\n",
       "</style>\n",
       "<table border=\"1\" class=\"dataframe\">\n",
       "  <thead>\n",
       "    <tr style=\"text-align: right;\">\n",
       "      <th></th>\n",
       "      <th>Product_id</th>\n",
       "      <th>product_name</th>\n",
       "      <th>brand_name</th>\n",
       "      <th>rating</th>\n",
       "      <th>rating_count</th>\n",
       "      <th>marked_price</th>\n",
       "      <th>discounted_price</th>\n",
       "      <th>discount_amount</th>\n",
       "      <th>discount_percent</th>\n",
       "      <th>sizes</th>\n",
       "      <th>product_tag</th>\n",
       "    </tr>\n",
       "  </thead>\n",
       "  <tbody>\n",
       "    <tr>\n",
       "      <th>0</th>\n",
       "      <td>18070682</td>\n",
       "      <td>Croc Textured Two Fold Wallet</td>\n",
       "      <td>Lino Perros</td>\n",
       "      <td>0.0</td>\n",
       "      <td>0</td>\n",
       "      <td>1295</td>\n",
       "      <td>828</td>\n",
       "      <td>467</td>\n",
       "      <td>36</td>\n",
       "      <td>Onesize</td>\n",
       "      <td>wallets</td>\n",
       "    </tr>\n",
       "    <tr>\n",
       "      <th>1</th>\n",
       "      <td>12548958</td>\n",
       "      <td>Men Striped Sliders</td>\n",
       "      <td>Mast &amp; Harbour</td>\n",
       "      <td>4.0</td>\n",
       "      <td>76</td>\n",
       "      <td>1299</td>\n",
       "      <td>584</td>\n",
       "      <td>715</td>\n",
       "      <td>55</td>\n",
       "      <td>UK6,UK7,UK8,UK9,UK10,UK11</td>\n",
       "      <td>flip-flops</td>\n",
       "    </tr>\n",
       "  </tbody>\n",
       "</table>\n",
       "</div>"
      ],
      "text/plain": [
       "  Product_id                   product_name      brand_name  rating  \\\n",
       "0   18070682  Croc Textured Two Fold Wallet     Lino Perros     0.0   \n",
       "1   12548958            Men Striped Sliders  Mast & Harbour     4.0   \n",
       "\n",
       "   rating_count  marked_price  discounted_price  discount_amount  \\\n",
       "0             0          1295               828              467   \n",
       "1            76          1299               584              715   \n",
       "\n",
       "   discount_percent                      sizes product_tag  \n",
       "0                36                    Onesize     wallets  \n",
       "1                55  UK6,UK7,UK8,UK9,UK10,UK11  flip-flops  "
      ]
     },
     "execution_count": 23,
     "metadata": {},
     "output_type": "execute_result"
    }
   ],
   "source": [
    "df.head(2)"
   ]
  },
  {
   "cell_type": "code",
   "execution_count": 24,
   "id": "2df062cb",
   "metadata": {},
   "outputs": [
    {
     "data": {
      "text/plain": [
       "Product_id          146435\n",
       "product_name         46012\n",
       "brand_name            3194\n",
       "rating                  42\n",
       "rating_count          1201\n",
       "marked_price          3219\n",
       "discounted_price      4539\n",
       "discount_amount       4290\n",
       "discount_percent        92\n",
       "sizes                 2938\n",
       "product_tag            341\n",
       "dtype: int64"
      ]
     },
     "execution_count": 24,
     "metadata": {},
     "output_type": "execute_result"
    }
   ],
   "source": [
    "df.nunique()"
   ]
  },
  {
   "cell_type": "markdown",
   "id": "4d3bd058",
   "metadata": {},
   "source": [
    "Product_name, brand_name, sizes and product_tag are categorical columns and remaining ones are numerical."
   ]
  },
  {
   "cell_type": "code",
   "execution_count": 25,
   "id": "5efb65ec",
   "metadata": {},
   "outputs": [
    {
     "data": {
      "text/plain": [
       "Slim Fit Casual Shirt                               1844\n",
       "Men Slim Fit Jeans                                  1293\n",
       "Men Running Shoes                                   1047\n",
       "Women Open Toe Flats                                 897\n",
       "Men Slim Fit Casual Shirt                            831\n",
       "                                                    ... \n",
       "Floral Front Slit Midi Dress                           1\n",
       "Floral Leather Structured Sling Bag                    1\n",
       "Women Cotton Culottes Trousers                         1\n",
       "Pack Of 2 Striped Pure Cotton 210 GSM Bath Towel       1\n",
       "Solid Twill Seat Cushion                               1\n",
       "Name: product_name, Length: 46012, dtype: int64"
      ]
     },
     "execution_count": 25,
     "metadata": {},
     "output_type": "execute_result"
    }
   ],
   "source": [
    "df[\"product_name\"].value_counts()"
   ]
  },
  {
   "cell_type": "code",
   "execution_count": 26,
   "id": "2ac6efba",
   "metadata": {},
   "outputs": [],
   "source": [
    "df_tag = df[\"product_tag\"].value_counts().to_frame().reset_index().rename(columns = {\"index\":\"product_tag\", \"product_tag\":\"count\"})"
   ]
  },
  {
   "cell_type": "code",
   "execution_count": 27,
   "id": "a9c9ea3e",
   "metadata": {},
   "outputs": [
    {
     "data": {
      "text/plain": [
       "<AxesSubplot: xlabel='product_tag'>"
      ]
     },
     "execution_count": 27,
     "metadata": {},
     "output_type": "execute_result"
    },
    {
     "data": {
      "image/png": "[encoded data removed]",
      "text/plain": [
       "<Figure size 640x480 with 1 Axes>"
      ]
     },
     "metadata": {},
     "output_type": "display_data"
    }
   ],
   "source": [
    "df_tag[df_tag[\"count\"]>1000].plot(kind = \"bar\", x = \"product_tag\")"
   ]
  },
  {
   "cell_type": "code",
   "execution_count": 28,
   "id": "b6222ecc",
   "metadata": {},
   "outputs": [
    {
     "data": {
      "text/plain": [
       "Onesize                                                                                20619\n",
       "S,M,L,XL,XXL                                                                           15329\n",
       "XS,S,M,L,XL                                                                            11102\n",
       "S,M,L,XL                                                                               10726\n",
       "XS,S,M,L,XL,XXL                                                                         8794\n",
       "                                                                                       ...  \n",
       "UK5,UK5.5,UK6.5,UK7                                                                        1\n",
       "32A,32B,32C,32D,32DD,34A,34B,34C,34D,34DD,36A,36B,36C,36D,36DD,38A,38B,38C,38D,38DD        1\n",
       "1Y,18M,2Y,4Y,6Y,8Y                                                                         1\n",
       "28/30,29/30,30/30,31/32,32/32,33/32,34/32,34/34,36/34,38/34                                1\n",
       "27.5,29,30,32                                                                              1\n",
       "Name: sizes, Length: 2938, dtype: int64"
      ]
     },
     "execution_count": 28,
     "metadata": {},
     "output_type": "execute_result"
    }
   ],
   "source": [
    "df[\"sizes\"].value_counts()"
   ]
  },
  {
   "cell_type": "code",
   "execution_count": 29,
   "id": "0ec5330a",
   "metadata": {},
   "outputs": [
    {
     "data": {
      "text/html": [
       "<div>\n",
       "<style scoped>\n",
       "    .dataframe tbody tr th:only-of-type {\n",
       "        vertical-align: middle;\n",
       "    }\n",
       "\n",
       "    .dataframe tbody tr th {\n",
       "        vertical-align: top;\n",
       "    }\n",
       "\n",
       "    .dataframe thead th {\n",
       "        text-align: right;\n",
       "    }\n",
       "</style>\n",
       "<table border=\"1\" class=\"dataframe\">\n",
       "  <thead>\n",
       "    <tr style=\"text-align: right;\">\n",
       "      <th></th>\n",
       "      <th>Product_id</th>\n",
       "      <th>product_name</th>\n",
       "      <th>brand_name</th>\n",
       "      <th>rating</th>\n",
       "      <th>rating_count</th>\n",
       "      <th>marked_price</th>\n",
       "      <th>discounted_price</th>\n",
       "      <th>discount_amount</th>\n",
       "      <th>discount_percent</th>\n",
       "      <th>sizes</th>\n",
       "      <th>product_tag</th>\n",
       "    </tr>\n",
       "  </thead>\n",
       "  <tbody>\n",
       "    <tr>\n",
       "      <th>0</th>\n",
       "      <td>18070682</td>\n",
       "      <td>Croc Textured Two Fold Wallet</td>\n",
       "      <td>Lino Perros</td>\n",
       "      <td>0.0</td>\n",
       "      <td>0</td>\n",
       "      <td>1295</td>\n",
       "      <td>828</td>\n",
       "      <td>467</td>\n",
       "      <td>36</td>\n",
       "      <td>Onesize</td>\n",
       "      <td>wallets</td>\n",
       "    </tr>\n",
       "    <tr>\n",
       "      <th>1</th>\n",
       "      <td>12548958</td>\n",
       "      <td>Men Striped Sliders</td>\n",
       "      <td>Mast &amp; Harbour</td>\n",
       "      <td>4.0</td>\n",
       "      <td>76</td>\n",
       "      <td>1299</td>\n",
       "      <td>584</td>\n",
       "      <td>715</td>\n",
       "      <td>55</td>\n",
       "      <td>UK6,UK7,UK8,UK9,UK10,UK11</td>\n",
       "      <td>flip-flops</td>\n",
       "    </tr>\n",
       "  </tbody>\n",
       "</table>\n",
       "</div>"
      ],
      "text/plain": [
       "  Product_id                   product_name      brand_name  rating  \\\n",
       "0   18070682  Croc Textured Two Fold Wallet     Lino Perros     0.0   \n",
       "1   12548958            Men Striped Sliders  Mast & Harbour     4.0   \n",
       "\n",
       "   rating_count  marked_price  discounted_price  discount_amount  \\\n",
       "0             0          1295               828              467   \n",
       "1            76          1299               584              715   \n",
       "\n",
       "   discount_percent                      sizes product_tag  \n",
       "0                36                    Onesize     wallets  \n",
       "1                55  UK6,UK7,UK8,UK9,UK10,UK11  flip-flops  "
      ]
     },
     "execution_count": 29,
     "metadata": {},
     "output_type": "execute_result"
    }
   ],
   "source": [
    "df.head(2)"
   ]
  },
  {
   "cell_type": "code",
   "execution_count": 30,
   "id": "7c2fb760",
   "metadata": {},
   "outputs": [
    {
     "name": "stderr",
     "output_type": "stream",
     "text": [
      "C:\\Users\\GFG19189\\AppData\\Local\\Temp\\ipykernel_11944\\3881989854.py:3: UserWarning: \n",
      "\n",
      "`distplot` is a deprecated function and will be removed in seaborn v0.14.0.\n",
      "\n",
      "Please adapt your code to use either `displot` (a figure-level function with\n",
      "similar flexibility) or `histplot` (an axes-level function for histograms).\n",
      "\n",
      "For a guide to updating your code to use the new functions, please see\n",
      "https://gist.github.com/mwaskom/de44147ed2974457ad6372750bbe5751\n",
      "\n",
      "  sns.distplot(df[\"rating\"])\n"
     ]
    },
    {
     "data": {
      "image/png": "[encoded data removed]",
      "text/plain": [
       "<Figure size 1200x400 with 2 Axes>"
      ]
     },
     "metadata": {},
     "output_type": "display_data"
    }
   ],
   "source": [
    "plt.figure(figsize = (12,4))\n",
    "plt.subplot(1,2,1)\n",
    "sns.distplot(df[\"rating\"])\n",
    "plt.subplot(1,2,2)\n",
    "sns.histplot(df[\"rating\"])\n",
    "plt.show()"
   ]
  },
  {
   "cell_type": "code",
   "execution_count": 31,
   "id": "ed48a946",
   "metadata": {},
   "outputs": [
    {
     "name": "stderr",
     "output_type": "stream",
     "text": [
      "C:\\Users\\GFG19189\\AppData\\Local\\Temp\\ipykernel_11944\\2472749138.py:1: UserWarning: \n",
      "\n",
      "`distplot` is a deprecated function and will be removed in seaborn v0.14.0.\n",
      "\n",
      "Please adapt your code to use either `displot` (a figure-level function with\n",
      "similar flexibility) or `histplot` (an axes-level function for histograms).\n",
      "\n",
      "For a guide to updating your code to use the new functions, please see\n",
      "https://gist.github.com/mwaskom/de44147ed2974457ad6372750bbe5751\n",
      "\n",
      "  sns.distplot(df[df[\"rating\"]!=0][\"rating\"])\n"
     ]
    },
    {
     "data": {
      "text/plain": [
       "<AxesSubplot: xlabel='rating', ylabel='Density'>"
      ]
     },
     "execution_count": 31,
     "metadata": {},
     "output_type": "execute_result"
    },
    {
     "data": {
      "image/png": "[encoded data removed]",
      "text/plain": [
       "<Figure size 640x480 with 1 Axes>"
      ]
     },
     "metadata": {},
     "output_type": "display_data"
    }
   ],
   "source": [
    "sns.distplot(df[df[\"rating\"]!=0][\"rating\"])"
   ]
  },
  {
   "cell_type": "code",
   "execution_count": 32,
   "id": "80d9dfac",
   "metadata": {},
   "outputs": [
    {
     "name": "stderr",
     "output_type": "stream",
     "text": [
      "C:\\Users\\GFG19189\\AppData\\Local\\Temp\\ipykernel_11944\\231352132.py:3: UserWarning: \n",
      "\n",
      "`distplot` is a deprecated function and will be removed in seaborn v0.14.0.\n",
      "\n",
      "Please adapt your code to use either `displot` (a figure-level function with\n",
      "similar flexibility) or `histplot` (an axes-level function for histograms).\n",
      "\n",
      "For a guide to updating your code to use the new functions, please see\n",
      "https://gist.github.com/mwaskom/de44147ed2974457ad6372750bbe5751\n",
      "\n",
      "  sns.distplot(df[\"marked_price\"])\n",
      "C:\\Users\\GFG19189\\AppData\\Local\\Temp\\ipykernel_11944\\231352132.py:5: UserWarning: \n",
      "\n",
      "`distplot` is a deprecated function and will be removed in seaborn v0.14.0.\n",
      "\n",
      "Please adapt your code to use either `displot` (a figure-level function with\n",
      "similar flexibility) or `histplot` (an axes-level function for histograms).\n",
      "\n",
      "For a guide to updating your code to use the new functions, please see\n",
      "https://gist.github.com/mwaskom/de44147ed2974457ad6372750bbe5751\n",
      "\n",
      "  sns.distplot(df[\"discount_amount\"])\n"
     ]
    },
    {
     "data": {
      "image/png": "[encoded data removed]",
      "text/plain": [
       "<Figure size 1200x400 with 2 Axes>"
      ]
     },
     "metadata": {},
     "output_type": "display_data"
    }
   ],
   "source": [
    "plt.figure(figsize = (12,4))\n",
    "plt.subplot(1,2,1)\n",
    "sns.distplot(df[\"marked_price\"])\n",
    "plt.subplot(1,2,2)\n",
    "sns.distplot(df[\"discount_amount\"])\n",
    "plt.show()"
   ]
  },
  {
   "cell_type": "code",
   "execution_count": 33,
   "id": "eec93f88",
   "metadata": {
    "scrolled": false
   },
   "outputs": [
    {
     "data": {
      "text/plain": [
       "0     25800\n",
       "50    12581\n",
       "60     9120\n",
       "40     7394\n",
       "30     7370\n",
       "      ...  \n",
       "90       40\n",
       "88       27\n",
       "87       17\n",
       "89        6\n",
       "91        1\n",
       "Name: discount_percent, Length: 92, dtype: int64"
      ]
     },
     "execution_count": 33,
     "metadata": {},
     "output_type": "execute_result"
    }
   ],
   "source": [
    "df[\"discount_percent\"].value_counts()"
   ]
  },
  {
   "cell_type": "markdown",
   "id": "ab628225",
   "metadata": {},
   "source": [
    "# Analysis for brand"
   ]
  },
  {
   "cell_type": "markdown",
   "id": "ed0d3b08",
   "metadata": {},
   "source": [
    "### Top 10 brands with highest number of products in the dataset"
   ]
  },
  {
   "cell_type": "code",
   "execution_count": 34,
   "id": "1ff0bdc1",
   "metadata": {},
   "outputs": [
    {
     "data": {
      "text/plain": [
       "<AxesSubplot: >"
      ]
     },
     "execution_count": 34,
     "metadata": {},
     "output_type": "execute_result"
    },
    {
     "data": {
      "image/png": "[encoded data removed]",
      "text/plain": [
       "<Figure size 640x480 with 1 Axes>"
      ]
     },
     "metadata": {},
     "output_type": "display_data"
    }
   ],
   "source": [
    "df[\"brand_name\"].value_counts().head(10).plot(kind = \"bar\")"
   ]
  },
  {
   "cell_type": "markdown",
   "id": "a0ff0a02",
   "metadata": {},
   "source": [
    "###  Find each brand average rating."
   ]
  },
  {
   "cell_type": "code",
   "execution_count": 35,
   "id": "d63be3c5",
   "metadata": {},
   "outputs": [
    {
     "name": "stderr",
     "output_type": "stream",
     "text": [
      "C:\\Users\\GFG19189\\AppData\\Local\\Temp\\ipykernel_11944\\1403575728.py:3: FutureWarning: Indexing with multiple keys (implicitly converted to a tuple of keys) will be deprecated, use a list instead.\n",
      "  brand_rating=df_new.groupby(\"brand_name\")[\"rating_prod\",\"rating_count\"].sum().reset_index()\n"
     ]
    }
   ],
   "source": [
    "df_new = df\n",
    "df_new[\"rating_prod\"] = df_new[\"rating\"]*df_new[\"rating_count\"]\n",
    "brand_rating=df_new.groupby(\"brand_name\")[\"rating_prod\",\"rating_count\"].sum().reset_index()"
   ]
  },
  {
   "cell_type": "code",
   "execution_count": 36,
   "id": "7c4693a1",
   "metadata": {},
   "outputs": [],
   "source": [
    "brand_rating[\"average_rating\"]=brand_rating[\"rating_prod\"]/brand_rating[\"rating_count\"]"
   ]
  },
  {
   "cell_type": "code",
   "execution_count": 37,
   "id": "6fdbf31f",
   "metadata": {},
   "outputs": [],
   "source": [
    "brand_rating = brand_rating.drop(\"rating_prod\", axis =1)"
   ]
  },
  {
   "cell_type": "code",
   "execution_count": 38,
   "id": "aa0a0754",
   "metadata": {},
   "outputs": [
    {
     "data": {
      "text/html": [
       "<div>\n",
       "<style scoped>\n",
       "    .dataframe tbody tr th:only-of-type {\n",
       "        vertical-align: middle;\n",
       "    }\n",
       "\n",
       "    .dataframe tbody tr th {\n",
       "        vertical-align: top;\n",
       "    }\n",
       "\n",
       "    .dataframe thead th {\n",
       "        text-align: right;\n",
       "    }\n",
       "</style>\n",
       "<table border=\"1\" class=\"dataframe\">\n",
       "  <thead>\n",
       "    <tr style=\"text-align: right;\">\n",
       "      <th></th>\n",
       "      <th>brand_name</th>\n",
       "      <th>rating_count</th>\n",
       "      <th>average_rating</th>\n",
       "    </tr>\n",
       "  </thead>\n",
       "  <tbody>\n",
       "    <tr>\n",
       "      <th>0</th>\n",
       "      <td>1 Stop Fashion</td>\n",
       "      <td>2</td>\n",
       "      <td>5.000000</td>\n",
       "    </tr>\n",
       "    <tr>\n",
       "      <th>1</th>\n",
       "      <td>1st Step</td>\n",
       "      <td>0</td>\n",
       "      <td>NaN</td>\n",
       "    </tr>\n",
       "    <tr>\n",
       "      <th>2</th>\n",
       "      <td>20Dresses</td>\n",
       "      <td>14068</td>\n",
       "      <td>4.429642</td>\n",
       "    </tr>\n",
       "    <tr>\n",
       "      <th>3</th>\n",
       "      <td>39 THREADS</td>\n",
       "      <td>7</td>\n",
       "      <td>3.900000</td>\n",
       "    </tr>\n",
       "    <tr>\n",
       "      <th>4</th>\n",
       "      <td>3PIN</td>\n",
       "      <td>6</td>\n",
       "      <td>4.200000</td>\n",
       "    </tr>\n",
       "    <tr>\n",
       "      <th>...</th>\n",
       "      <td>...</td>\n",
       "      <td>...</td>\n",
       "      <td>...</td>\n",
       "    </tr>\n",
       "    <tr>\n",
       "      <th>3189</th>\n",
       "      <td>x2o</td>\n",
       "      <td>3879</td>\n",
       "      <td>4.073911</td>\n",
       "    </tr>\n",
       "    <tr>\n",
       "      <th>3190</th>\n",
       "      <td>yelloe</td>\n",
       "      <td>4098</td>\n",
       "      <td>4.190727</td>\n",
       "    </tr>\n",
       "    <tr>\n",
       "      <th>3191</th>\n",
       "      <td>yoho</td>\n",
       "      <td>0</td>\n",
       "      <td>NaN</td>\n",
       "    </tr>\n",
       "    <tr>\n",
       "      <th>3192</th>\n",
       "      <td>zebu</td>\n",
       "      <td>1579</td>\n",
       "      <td>4.437935</td>\n",
       "    </tr>\n",
       "    <tr>\n",
       "      <th>3193</th>\n",
       "      <td>zink Z</td>\n",
       "      <td>0</td>\n",
       "      <td>NaN</td>\n",
       "    </tr>\n",
       "  </tbody>\n",
       "</table>\n",
       "<p>3194 rows × 3 columns</p>\n",
       "</div>"
      ],
      "text/plain": [
       "          brand_name  rating_count  average_rating\n",
       "0     1 Stop Fashion             2        5.000000\n",
       "1           1st Step             0             NaN\n",
       "2          20Dresses         14068        4.429642\n",
       "3         39 THREADS             7        3.900000\n",
       "4               3PIN             6        4.200000\n",
       "...              ...           ...             ...\n",
       "3189             x2o          3879        4.073911\n",
       "3190          yelloe          4098        4.190727\n",
       "3191            yoho             0             NaN\n",
       "3192            zebu          1579        4.437935\n",
       "3193          zink Z             0             NaN\n",
       "\n",
       "[3194 rows x 3 columns]"
      ]
     },
     "execution_count": 38,
     "metadata": {},
     "output_type": "execute_result"
    }
   ],
   "source": [
    "brand_rating"
   ]
  },
  {
   "cell_type": "code",
   "execution_count": 39,
   "id": "046d967d",
   "metadata": {},
   "outputs": [
    {
     "data": {
      "text/plain": [
       "823"
      ]
     },
     "execution_count": 39,
     "metadata": {},
     "output_type": "execute_result"
    }
   ],
   "source": [
    "brand_rating[\"average_rating\"].isnull().sum()"
   ]
  },
  {
   "cell_type": "code",
   "execution_count": 40,
   "id": "f7a2f974",
   "metadata": {},
   "outputs": [],
   "source": [
    "brand_rating.dropna(subset = [\"average_rating\"], inplace = True)"
   ]
  },
  {
   "cell_type": "markdown",
   "id": "87a28fb8",
   "metadata": {},
   "source": [
    "### Popular brand"
   ]
  },
  {
   "cell_type": "code",
   "execution_count": 41,
   "id": "c70acb0a",
   "metadata": {},
   "outputs": [
    {
     "data": {
      "text/html": [
       "<div>\n",
       "<style scoped>\n",
       "    .dataframe tbody tr th:only-of-type {\n",
       "        vertical-align: middle;\n",
       "    }\n",
       "\n",
       "    .dataframe tbody tr th {\n",
       "        vertical-align: top;\n",
       "    }\n",
       "\n",
       "    .dataframe thead th {\n",
       "        text-align: right;\n",
       "    }\n",
       "</style>\n",
       "<table border=\"1\" class=\"dataframe\">\n",
       "  <thead>\n",
       "    <tr style=\"text-align: right;\">\n",
       "      <th></th>\n",
       "      <th>brand_name</th>\n",
       "      <th>rating_count</th>\n",
       "      <th>average_rating</th>\n",
       "    </tr>\n",
       "  </thead>\n",
       "  <tbody>\n",
       "    <tr>\n",
       "      <th>2252</th>\n",
       "      <td>Roadster</td>\n",
       "      <td>2016518</td>\n",
       "      <td>4.114648</td>\n",
       "    </tr>\n",
       "    <tr>\n",
       "      <th>357</th>\n",
       "      <td>Biotique</td>\n",
       "      <td>725218</td>\n",
       "      <td>4.383002</td>\n",
       "    </tr>\n",
       "    <tr>\n",
       "      <th>1757</th>\n",
       "      <td>Maybelline</td>\n",
       "      <td>657744</td>\n",
       "      <td>4.421711</td>\n",
       "    </tr>\n",
       "    <tr>\n",
       "      <th>2296</th>\n",
       "      <td>SASSAFRAS</td>\n",
       "      <td>590550</td>\n",
       "      <td>4.285326</td>\n",
       "    </tr>\n",
       "    <tr>\n",
       "      <th>1082</th>\n",
       "      <td>HIGHLANDER</td>\n",
       "      <td>519108</td>\n",
       "      <td>4.078146</td>\n",
       "    </tr>\n",
       "    <tr>\n",
       "      <th>...</th>\n",
       "      <td>...</td>\n",
       "      <td>...</td>\n",
       "      <td>...</td>\n",
       "    </tr>\n",
       "    <tr>\n",
       "      <th>1222</th>\n",
       "      <td>Indian Dobby</td>\n",
       "      <td>2</td>\n",
       "      <td>1.000000</td>\n",
       "    </tr>\n",
       "    <tr>\n",
       "      <th>1686</th>\n",
       "      <td>MONJOLIKA FASHION</td>\n",
       "      <td>1</td>\n",
       "      <td>5.000000</td>\n",
       "    </tr>\n",
       "    <tr>\n",
       "      <th>1383</th>\n",
       "      <td>KULTPRIT</td>\n",
       "      <td>1</td>\n",
       "      <td>4.000000</td>\n",
       "    </tr>\n",
       "    <tr>\n",
       "      <th>2575</th>\n",
       "      <td>Swtantra</td>\n",
       "      <td>1</td>\n",
       "      <td>3.000000</td>\n",
       "    </tr>\n",
       "    <tr>\n",
       "      <th>2402</th>\n",
       "      <td>SWISS BRAND</td>\n",
       "      <td>1</td>\n",
       "      <td>1.000000</td>\n",
       "    </tr>\n",
       "  </tbody>\n",
       "</table>\n",
       "<p>2371 rows × 3 columns</p>\n",
       "</div>"
      ],
      "text/plain": [
       "             brand_name  rating_count  average_rating\n",
       "2252           Roadster       2016518        4.114648\n",
       "357            Biotique        725218        4.383002\n",
       "1757         Maybelline        657744        4.421711\n",
       "2296          SASSAFRAS        590550        4.285326\n",
       "1082         HIGHLANDER        519108        4.078146\n",
       "...                 ...           ...             ...\n",
       "1222       Indian Dobby             2        1.000000\n",
       "1686  MONJOLIKA FASHION             1        5.000000\n",
       "1383           KULTPRIT             1        4.000000\n",
       "2575           Swtantra             1        3.000000\n",
       "2402        SWISS BRAND             1        1.000000\n",
       "\n",
       "[2371 rows x 3 columns]"
      ]
     },
     "execution_count": 41,
     "metadata": {},
     "output_type": "execute_result"
    }
   ],
   "source": [
    "brand_rating.sort_values([\"rating_count\",\"average_rating\"], ascending = False)"
   ]
  },
  {
   "cell_type": "markdown",
   "id": "68e5de08",
   "metadata": {},
   "source": [
    "From this we can conclude, Roadster is the most selling brand."
   ]
  },
  {
   "cell_type": "code",
   "execution_count": 42,
   "id": "b6cc244c",
   "metadata": {},
   "outputs": [
    {
     "data": {
      "image/png": "[encoded data removed]",
      "text/plain": [
       "<Figure size 640x480 with 1 Axes>"
      ]
     },
     "metadata": {},
     "output_type": "display_data"
    }
   ],
   "source": [
    "sns.barplot(data = brand_rating.sort_values([\"rating_count\",\"average_rating\"], ascending = False).head(15), x = \"brand_name\", y = \"rating_count\")\n",
    "plt.xticks(rotation =90)\n",
    "plt.show()"
   ]
  },
  {
   "cell_type": "code",
   "execution_count": 43,
   "id": "1cd0b510",
   "metadata": {
    "scrolled": true
   },
   "outputs": [
    {
     "data": {
      "image/png": "[encoded data removed]",
      "text/plain": [
       "<Figure size 640x480 with 1 Axes>"
      ]
     },
     "metadata": {},
     "output_type": "display_data"
    }
   ],
   "source": [
    "sns.barplot(data = brand_rating.sort_values([\"rating_count\",\"average_rating\"], ascending = False).head(15), x = \"brand_name\", y = \"average_rating\")\n",
    "plt.xticks(rotation =90)\n",
    "plt.show()"
   ]
  },
  {
   "cell_type": "markdown",
   "id": "f9fbc089",
   "metadata": {},
   "source": [
    "### How many brands have average rating greater than 4 or 4.5?"
   ]
  },
  {
   "cell_type": "code",
   "execution_count": 44,
   "id": "10b18fe7",
   "metadata": {},
   "outputs": [
    {
     "data": {
      "text/plain": [
       "<AxesSubplot: ylabel='average_rating'>"
      ]
     },
     "execution_count": 44,
     "metadata": {},
     "output_type": "execute_result"
    },
    {
     "data": {
      "image/png": "[encoded data removed]",
      "text/plain": [
       "<Figure size 640x480 with 1 Axes>"
      ]
     },
     "metadata": {},
     "output_type": "display_data"
    }
   ],
   "source": [
    "bins = (0,0.5,1,1.5,2,2.5,3,3.5,4,4.5,5)\n",
    "brand_rating[\"average_rating\"].value_counts(bins = bins).plot(kind = \"pie\", autopct = \"%.2f\")"
   ]
  },
  {
   "cell_type": "markdown",
   "id": "2e6e9366",
   "metadata": {},
   "source": [
    "76% of brands have average rating greater than 4."
   ]
  },
  {
   "cell_type": "code",
   "execution_count": 45,
   "id": "fea877dd",
   "metadata": {},
   "outputs": [
    {
     "data": {
      "text/html": [
       "<div>\n",
       "<style scoped>\n",
       "    .dataframe tbody tr th:only-of-type {\n",
       "        vertical-align: middle;\n",
       "    }\n",
       "\n",
       "    .dataframe tbody tr th {\n",
       "        vertical-align: top;\n",
       "    }\n",
       "\n",
       "    .dataframe thead th {\n",
       "        text-align: right;\n",
       "    }\n",
       "</style>\n",
       "<table border=\"1\" class=\"dataframe\">\n",
       "  <thead>\n",
       "    <tr style=\"text-align: right;\">\n",
       "      <th></th>\n",
       "      <th>brand_name</th>\n",
       "      <th>rating_count</th>\n",
       "      <th>average_rating</th>\n",
       "    </tr>\n",
       "  </thead>\n",
       "  <tbody>\n",
       "    <tr>\n",
       "      <th>1222</th>\n",
       "      <td>Indian Dobby</td>\n",
       "      <td>2</td>\n",
       "      <td>1.0</td>\n",
       "    </tr>\n",
       "    <tr>\n",
       "      <th>1385</th>\n",
       "      <td>Kaifoo</td>\n",
       "      <td>2</td>\n",
       "      <td>1.5</td>\n",
       "    </tr>\n",
       "    <tr>\n",
       "      <th>2243</th>\n",
       "      <td>Rex Straut Jeans</td>\n",
       "      <td>4</td>\n",
       "      <td>1.8</td>\n",
       "    </tr>\n",
       "    <tr>\n",
       "      <th>2402</th>\n",
       "      <td>SWISS BRAND</td>\n",
       "      <td>1</td>\n",
       "      <td>1.0</td>\n",
       "    </tr>\n",
       "    <tr>\n",
       "      <th>2480</th>\n",
       "      <td>Skidlers</td>\n",
       "      <td>5</td>\n",
       "      <td>1.4</td>\n",
       "    </tr>\n",
       "    <tr>\n",
       "      <th>2992</th>\n",
       "      <td>ZALORA BASICS</td>\n",
       "      <td>4</td>\n",
       "      <td>1.8</td>\n",
       "    </tr>\n",
       "    <tr>\n",
       "      <th>2998</th>\n",
       "      <td>ZEBRONICS</td>\n",
       "      <td>3</td>\n",
       "      <td>1.0</td>\n",
       "    </tr>\n",
       "  </tbody>\n",
       "</table>\n",
       "</div>"
      ],
      "text/plain": [
       "            brand_name  rating_count  average_rating\n",
       "1222      Indian Dobby             2             1.0\n",
       "1385            Kaifoo             2             1.5\n",
       "2243  Rex Straut Jeans             4             1.8\n",
       "2402       SWISS BRAND             1             1.0\n",
       "2480          Skidlers             5             1.4\n",
       "2992     ZALORA BASICS             4             1.8\n",
       "2998         ZEBRONICS             3             1.0"
      ]
     },
     "execution_count": 45,
     "metadata": {},
     "output_type": "execute_result"
    }
   ],
   "source": [
    "brand_rating[brand_rating[\"average_rating\"]<2]"
   ]
  },
  {
   "cell_type": "markdown",
   "id": "e2009d21",
   "metadata": {},
   "source": [
    "These are the brands which have rating less than 2 and we can see that they have very less rating_count so not many people bought products from these brands."
   ]
  },
  {
   "cell_type": "code",
   "execution_count": 46,
   "id": "f9ab6d97",
   "metadata": {},
   "outputs": [
    {
     "data": {
      "text/plain": [
       "Roadster          4557\n",
       "Mast & Harbour    2397\n",
       "DressBerry        2073\n",
       "H&M               1998\n",
       "Anouk             1784\n",
       "                  ... \n",
       "Plume                1\n",
       "ALC Creations        1\n",
       "FLUID                1\n",
       "Astaberry            1\n",
       "LIL PITAARA          1\n",
       "Name: brand_name, Length: 3194, dtype: int64"
      ]
     },
     "execution_count": 46,
     "metadata": {},
     "output_type": "execute_result"
    }
   ],
   "source": [
    "df[\"brand_name\"].value_counts()"
   ]
  },
  {
   "cell_type": "code",
   "execution_count": 47,
   "id": "aba0b57b",
   "metadata": {},
   "outputs": [
    {
     "data": {
      "text/plain": [
       "max                        1054\n",
       "H&M                        1000\n",
       "MANGO                       930\n",
       "URBANIC                     862\n",
       "Roadster                    862\n",
       "                           ... \n",
       "YNB YOURS NATURAL BUDDY       1\n",
       "FIXDERMA                      1\n",
       "MARK HOME                     1\n",
       "FROGGY                        1\n",
       "LIL PITAARA                   1\n",
       "Name: brand_name, Length: 2615, dtype: int64"
      ]
     },
     "execution_count": 47,
     "metadata": {},
     "output_type": "execute_result"
    }
   ],
   "source": [
    "df[df[\"rating_count\"]==0.0][\"brand_name\"].value_counts()"
   ]
  },
  {
   "cell_type": "code",
   "execution_count": 48,
   "id": "6ec6c9c6",
   "metadata": {},
   "outputs": [
    {
     "data": {
      "text/plain": [
       "1772"
      ]
     },
     "execution_count": 48,
     "metadata": {},
     "output_type": "execute_result"
    }
   ],
   "source": [
    "len(df[df[\"brand_name\"]==\"max\"])"
   ]
  },
  {
   "cell_type": "markdown",
   "id": "f2bdc440",
   "metadata": {},
   "source": [
    "We can conclude, Max is the brand which has maximum number of products which does not have any rating. That means max have maximum non-selling products."
   ]
  },
  {
   "cell_type": "markdown",
   "id": "453c02be",
   "metadata": {},
   "source": [
    "### FInd the brand market size"
   ]
  },
  {
   "cell_type": "code",
   "execution_count": 49,
   "id": "9b566c52",
   "metadata": {},
   "outputs": [
    {
     "name": "stderr",
     "output_type": "stream",
     "text": [
      "C:\\Users\\GFG19189\\AppData\\Local\\Temp\\ipykernel_11944\\1022795663.py:3: FutureWarning: Indexing with multiple keys (implicitly converted to a tuple of keys) will be deprecated, use a list instead.\n",
      "  brand_marketsize=df_new.groupby(\"brand_name\")[\"sales_value\",\"rating_count\"].sum().reset_index()\n"
     ]
    }
   ],
   "source": [
    "df_new = df\n",
    "df_new[\"sales_value\"] = df_new[\"discounted_price\"]*df_new[\"rating_count\"]\n",
    "brand_marketsize=df_new.groupby(\"brand_name\")[\"sales_value\",\"rating_count\"].sum().reset_index()"
   ]
  },
  {
   "cell_type": "code",
   "execution_count": 50,
   "id": "1f6ca1de",
   "metadata": {},
   "outputs": [
    {
     "data": {
      "text/html": [
       "<div>\n",
       "<style scoped>\n",
       "    .dataframe tbody tr th:only-of-type {\n",
       "        vertical-align: middle;\n",
       "    }\n",
       "\n",
       "    .dataframe tbody tr th {\n",
       "        vertical-align: top;\n",
       "    }\n",
       "\n",
       "    .dataframe thead th {\n",
       "        text-align: right;\n",
       "    }\n",
       "</style>\n",
       "<table border=\"1\" class=\"dataframe\">\n",
       "  <thead>\n",
       "    <tr style=\"text-align: right;\">\n",
       "      <th></th>\n",
       "      <th>brand_name</th>\n",
       "      <th>sales_value</th>\n",
       "      <th>rating_count</th>\n",
       "    </tr>\n",
       "  </thead>\n",
       "  <tbody>\n",
       "    <tr>\n",
       "      <th>2252</th>\n",
       "      <td>Roadster</td>\n",
       "      <td>1352913126</td>\n",
       "      <td>2016518</td>\n",
       "    </tr>\n",
       "    <tr>\n",
       "      <th>1102</th>\n",
       "      <td>HRX by Hrithik Roshan</td>\n",
       "      <td>474101059</td>\n",
       "      <td>514356</td>\n",
       "    </tr>\n",
       "    <tr>\n",
       "      <th>2296</th>\n",
       "      <td>SASSAFRAS</td>\n",
       "      <td>432993884</td>\n",
       "      <td>590550</td>\n",
       "    </tr>\n",
       "    <tr>\n",
       "      <th>2090</th>\n",
       "      <td>Philips</td>\n",
       "      <td>361430218</td>\n",
       "      <td>158311</td>\n",
       "    </tr>\n",
       "    <tr>\n",
       "      <th>1082</th>\n",
       "      <td>HIGHLANDER</td>\n",
       "      <td>332229103</td>\n",
       "      <td>519108</td>\n",
       "    </tr>\n",
       "    <tr>\n",
       "      <th>...</th>\n",
       "      <td>...</td>\n",
       "      <td>...</td>\n",
       "      <td>...</td>\n",
       "    </tr>\n",
       "    <tr>\n",
       "      <th>1586</th>\n",
       "      <td>Love More</td>\n",
       "      <td>0</td>\n",
       "      <td>0</td>\n",
       "    </tr>\n",
       "    <tr>\n",
       "      <th>1574</th>\n",
       "      <td>Looney Tunes by Dressberry</td>\n",
       "      <td>0</td>\n",
       "      <td>0</td>\n",
       "    </tr>\n",
       "    <tr>\n",
       "      <th>1571</th>\n",
       "      <td>Lomani</td>\n",
       "      <td>0</td>\n",
       "      <td>0</td>\n",
       "    </tr>\n",
       "    <tr>\n",
       "      <th>1565</th>\n",
       "      <td>Little County</td>\n",
       "      <td>0</td>\n",
       "      <td>0</td>\n",
       "    </tr>\n",
       "    <tr>\n",
       "      <th>3193</th>\n",
       "      <td>zink Z</td>\n",
       "      <td>0</td>\n",
       "      <td>0</td>\n",
       "    </tr>\n",
       "  </tbody>\n",
       "</table>\n",
       "<p>3194 rows × 3 columns</p>\n",
       "</div>"
      ],
      "text/plain": [
       "                      brand_name  sales_value  rating_count\n",
       "2252                    Roadster   1352913126       2016518\n",
       "1102       HRX by Hrithik Roshan    474101059        514356\n",
       "2296                   SASSAFRAS    432993884        590550\n",
       "2090                     Philips    361430218        158311\n",
       "1082                  HIGHLANDER    332229103        519108\n",
       "...                          ...          ...           ...\n",
       "1586                   Love More            0             0\n",
       "1574  Looney Tunes by Dressberry            0             0\n",
       "1571                      Lomani            0             0\n",
       "1565               Little County            0             0\n",
       "3193                      zink Z            0             0\n",
       "\n",
       "[3194 rows x 3 columns]"
      ]
     },
     "execution_count": 50,
     "metadata": {},
     "output_type": "execute_result"
    }
   ],
   "source": [
    "brand_marketsize.sort_values(\"sales_value\", ascending = False)"
   ]
  },
  {
   "cell_type": "code",
   "execution_count": 51,
   "id": "63d00c43",
   "metadata": {
    "scrolled": true
   },
   "outputs": [
    {
     "data": {
      "image/png": "[encoded data removed]",
      "text/plain": [
       "<Figure size 640x480 with 1 Axes>"
      ]
     },
     "metadata": {},
     "output_type": "display_data"
    }
   ],
   "source": [
    "sns.barplot(data = brand_marketsize.sort_values(\"sales_value\", ascending = False).head(10), x= \"brand_name\", y = \"sales_value\")\n",
    "plt.xticks(rotation = 90)\n",
    "plt.show()"
   ]
  },
  {
   "cell_type": "markdown",
   "id": "c29bde61",
   "metadata": {},
   "source": [
    "Further questions which we can work on\n",
    "\n",
    "(i) Which brands give maximum discount?\n"
   ]
  },
  {
   "cell_type": "markdown",
   "id": "13d02cc5",
   "metadata": {},
   "source": [
    "### Relationship between sales value and discount_percent for brands"
   ]
  },
  {
   "cell_type": "code",
   "execution_count": 52,
   "id": "faf6177d",
   "metadata": {},
   "outputs": [],
   "source": [
    "df_new = df\n",
    "df_new[\"sales_value\"] = df_new[\"discounted_price\"]*df_new[\"rating_count\"]\n",
    "brand_discounts_sales = df_new.groupby(\"brand_name\").agg({'discount_percent': 'mean', 'sales_value': 'sum'}).reset_index()"
   ]
  },
  {
   "cell_type": "code",
   "execution_count": 53,
   "id": "6b1aa45e",
   "metadata": {},
   "outputs": [
    {
     "data": {
      "text/html": [
       "<div>\n",
       "<style scoped>\n",
       "    .dataframe tbody tr th:only-of-type {\n",
       "        vertical-align: middle;\n",
       "    }\n",
       "\n",
       "    .dataframe tbody tr th {\n",
       "        vertical-align: top;\n",
       "    }\n",
       "\n",
       "    .dataframe thead th {\n",
       "        text-align: right;\n",
       "    }\n",
       "</style>\n",
       "<table border=\"1\" class=\"dataframe\">\n",
       "  <thead>\n",
       "    <tr style=\"text-align: right;\">\n",
       "      <th></th>\n",
       "      <th>brand_name</th>\n",
       "      <th>discount_percent</th>\n",
       "      <th>sales_value</th>\n",
       "    </tr>\n",
       "  </thead>\n",
       "  <tbody>\n",
       "    <tr>\n",
       "      <th>0</th>\n",
       "      <td>1 Stop Fashion</td>\n",
       "      <td>75.000000</td>\n",
       "      <td>2668</td>\n",
       "    </tr>\n",
       "    <tr>\n",
       "      <th>1</th>\n",
       "      <td>1st Step</td>\n",
       "      <td>10.000000</td>\n",
       "      <td>0</td>\n",
       "    </tr>\n",
       "    <tr>\n",
       "      <th>2</th>\n",
       "      <td>20Dresses</td>\n",
       "      <td>26.138952</td>\n",
       "      <td>17429259</td>\n",
       "    </tr>\n",
       "    <tr>\n",
       "      <th>3</th>\n",
       "      <td>39 THREADS</td>\n",
       "      <td>40.000000</td>\n",
       "      <td>4193</td>\n",
       "    </tr>\n",
       "    <tr>\n",
       "      <th>4</th>\n",
       "      <td>3PIN</td>\n",
       "      <td>43.000000</td>\n",
       "      <td>2046</td>\n",
       "    </tr>\n",
       "    <tr>\n",
       "      <th>...</th>\n",
       "      <td>...</td>\n",
       "      <td>...</td>\n",
       "      <td>...</td>\n",
       "    </tr>\n",
       "    <tr>\n",
       "      <th>3189</th>\n",
       "      <td>x2o</td>\n",
       "      <td>72.111111</td>\n",
       "      <td>3508790</td>\n",
       "    </tr>\n",
       "    <tr>\n",
       "      <th>3190</th>\n",
       "      <td>yelloe</td>\n",
       "      <td>57.478261</td>\n",
       "      <td>3808153</td>\n",
       "    </tr>\n",
       "    <tr>\n",
       "      <th>3191</th>\n",
       "      <td>yoho</td>\n",
       "      <td>28.857143</td>\n",
       "      <td>0</td>\n",
       "    </tr>\n",
       "    <tr>\n",
       "      <th>3192</th>\n",
       "      <td>zebu</td>\n",
       "      <td>59.312500</td>\n",
       "      <td>749545</td>\n",
       "    </tr>\n",
       "    <tr>\n",
       "      <th>3193</th>\n",
       "      <td>zink Z</td>\n",
       "      <td>10.000000</td>\n",
       "      <td>0</td>\n",
       "    </tr>\n",
       "  </tbody>\n",
       "</table>\n",
       "<p>3194 rows × 3 columns</p>\n",
       "</div>"
      ],
      "text/plain": [
       "          brand_name  discount_percent  sales_value\n",
       "0     1 Stop Fashion         75.000000         2668\n",
       "1           1st Step         10.000000            0\n",
       "2          20Dresses         26.138952     17429259\n",
       "3         39 THREADS         40.000000         4193\n",
       "4               3PIN         43.000000         2046\n",
       "...              ...               ...          ...\n",
       "3189             x2o         72.111111      3508790\n",
       "3190          yelloe         57.478261      3808153\n",
       "3191            yoho         28.857143            0\n",
       "3192            zebu         59.312500       749545\n",
       "3193          zink Z         10.000000            0\n",
       "\n",
       "[3194 rows x 3 columns]"
      ]
     },
     "execution_count": 53,
     "metadata": {},
     "output_type": "execute_result"
    }
   ],
   "source": [
    "brand_discounts_sales"
   ]
  },
  {
   "cell_type": "code",
   "execution_count": 54,
   "id": "e689af0f",
   "metadata": {
    "scrolled": true
   },
   "outputs": [
    {
     "data": {
      "text/plain": [
       "<AxesSubplot: xlabel='discount_percent', ylabel='sales_value'>"
      ]
     },
     "execution_count": 54,
     "metadata": {},
     "output_type": "execute_result"
    },
    {
     "data": {
      "image/png": "[encoded data removed]",
      "text/plain": [
       "<Figure size 640x480 with 1 Axes>"
      ]
     },
     "metadata": {},
     "output_type": "display_data"
    }
   ],
   "source": [
    "sns.scatterplot(data = brand_discounts_sales, x=\"discount_percent\" , y= \"sales_value\")"
   ]
  },
  {
   "cell_type": "markdown",
   "id": "153df5b7",
   "metadata": {},
   "source": [
    "Increase in discount percent in brand does not imply increase in sales value."
   ]
  },
  {
   "cell_type": "code",
   "execution_count": 55,
   "id": "378f675d",
   "metadata": {},
   "outputs": [
    {
     "data": {
      "image/png": "[encoded data removed]",
      "text/plain": [
       "<Figure size 640x480 with 1 Axes>"
      ]
     },
     "metadata": {},
     "output_type": "display_data"
    }
   ],
   "source": [
    "sns.barplot(data = brand_discounts_sales.sort_values(\"discount_percent\", ascending = False).head(20), x=\"brand_name\" , y= \"discount_percent\")\n",
    "plt.xticks(rotation = 90)\n",
    "plt.show()"
   ]
  },
  {
   "cell_type": "markdown",
   "id": "1649eff6",
   "metadata": {},
   "source": [
    "# Analysis for product"
   ]
  },
  {
   "cell_type": "code",
   "execution_count": 56,
   "id": "d68c50d6",
   "metadata": {},
   "outputs": [
    {
     "name": "stdout",
     "output_type": "stream",
     "text": [
      "kurta\n",
      "Details of product kurta having maximum price\n"
     ]
    },
    {
     "data": {
      "text/html": [
       "<div>\n",
       "<style scoped>\n",
       "    .dataframe tbody tr th:only-of-type {\n",
       "        vertical-align: middle;\n",
       "    }\n",
       "\n",
       "    .dataframe tbody tr th {\n",
       "        vertical-align: top;\n",
       "    }\n",
       "\n",
       "    .dataframe thead th {\n",
       "        text-align: right;\n",
       "    }\n",
       "</style>\n",
       "<table border=\"1\" class=\"dataframe\">\n",
       "  <thead>\n",
       "    <tr style=\"text-align: right;\">\n",
       "      <th></th>\n",
       "      <th>Product_id</th>\n",
       "      <th>product_name</th>\n",
       "      <th>brand_name</th>\n",
       "      <th>rating</th>\n",
       "      <th>rating_count</th>\n",
       "      <th>marked_price</th>\n",
       "      <th>discounted_price</th>\n",
       "      <th>discount_amount</th>\n",
       "      <th>discount_percent</th>\n",
       "      <th>sizes</th>\n",
       "      <th>product_tag</th>\n",
       "      <th>rating_prod</th>\n",
       "      <th>sales_value</th>\n",
       "    </tr>\n",
       "  </thead>\n",
       "  <tbody>\n",
       "    <tr>\n",
       "      <th>118913</th>\n",
       "      <td>16197620</td>\n",
       "      <td>Kurta with Skirt &amp; Dupatta</td>\n",
       "      <td>Neerus</td>\n",
       "      <td>0.0</td>\n",
       "      <td>0</td>\n",
       "      <td>15590</td>\n",
       "      <td>14031</td>\n",
       "      <td>1559</td>\n",
       "      <td>10</td>\n",
       "      <td>M</td>\n",
       "      <td>kurta-sets</td>\n",
       "      <td>0.0</td>\n",
       "      <td>0</td>\n",
       "    </tr>\n",
       "  </tbody>\n",
       "</table>\n",
       "</div>"
      ],
      "text/plain": [
       "       Product_id                product_name brand_name  rating  \\\n",
       "118913   16197620  Kurta with Skirt & Dupatta     Neerus     0.0   \n",
       "\n",
       "        rating_count  marked_price  discounted_price  discount_amount  \\\n",
       "118913             0         15590             14031             1559   \n",
       "\n",
       "        discount_percent sizes product_tag  rating_prod  sales_value  \n",
       "118913                10     M  kurta-sets          0.0            0  "
      ]
     },
     "metadata": {},
     "output_type": "display_data"
    },
    {
     "name": "stdout",
     "output_type": "stream",
     "text": [
      "Details of product kurta having minimum price\n"
     ]
    },
    {
     "data": {
      "text/html": [
       "<div>\n",
       "<style scoped>\n",
       "    .dataframe tbody tr th:only-of-type {\n",
       "        vertical-align: middle;\n",
       "    }\n",
       "\n",
       "    .dataframe tbody tr th {\n",
       "        vertical-align: top;\n",
       "    }\n",
       "\n",
       "    .dataframe thead th {\n",
       "        text-align: right;\n",
       "    }\n",
       "</style>\n",
       "<table border=\"1\" class=\"dataframe\">\n",
       "  <thead>\n",
       "    <tr style=\"text-align: right;\">\n",
       "      <th></th>\n",
       "      <th>Product_id</th>\n",
       "      <th>product_name</th>\n",
       "      <th>brand_name</th>\n",
       "      <th>rating</th>\n",
       "      <th>rating_count</th>\n",
       "      <th>marked_price</th>\n",
       "      <th>discounted_price</th>\n",
       "      <th>discount_amount</th>\n",
       "      <th>discount_percent</th>\n",
       "      <th>sizes</th>\n",
       "      <th>product_tag</th>\n",
       "      <th>rating_prod</th>\n",
       "      <th>sales_value</th>\n",
       "    </tr>\n",
       "  </thead>\n",
       "  <tbody>\n",
       "    <tr>\n",
       "      <th>106998</th>\n",
       "      <td>11518656</td>\n",
       "      <td>Women Printed Straight Kurta</td>\n",
       "      <td>Wabii</td>\n",
       "      <td>0.0</td>\n",
       "      <td>0</td>\n",
       "      <td>1199</td>\n",
       "      <td>299</td>\n",
       "      <td>900</td>\n",
       "      <td>75</td>\n",
       "      <td>S,M,L,XL,XXL</td>\n",
       "      <td>kurtas</td>\n",
       "      <td>0.0</td>\n",
       "      <td>0</td>\n",
       "    </tr>\n",
       "  </tbody>\n",
       "</table>\n",
       "</div>"
      ],
      "text/plain": [
       "       Product_id                  product_name brand_name  rating  \\\n",
       "106998   11518656  Women Printed Straight Kurta      Wabii     0.0   \n",
       "\n",
       "        rating_count  marked_price  discounted_price  discount_amount  \\\n",
       "106998             0          1199               299              900   \n",
       "\n",
       "        discount_percent         sizes product_tag  rating_prod  sales_value  \n",
       "106998                75  S,M,L,XL,XXL      kurtas          0.0            0  "
      ]
     },
     "metadata": {},
     "output_type": "display_data"
    },
    {
     "name": "stdout",
     "output_type": "stream",
     "text": [
      " Maximum rating product kurta details\n"
     ]
    },
    {
     "data": {
      "text/html": [
       "<div>\n",
       "<style scoped>\n",
       "    .dataframe tbody tr th:only-of-type {\n",
       "        vertical-align: middle;\n",
       "    }\n",
       "\n",
       "    .dataframe tbody tr th {\n",
       "        vertical-align: top;\n",
       "    }\n",
       "\n",
       "    .dataframe thead th {\n",
       "        text-align: right;\n",
       "    }\n",
       "</style>\n",
       "<table border=\"1\" class=\"dataframe\">\n",
       "  <thead>\n",
       "    <tr style=\"text-align: right;\">\n",
       "      <th></th>\n",
       "      <th>Product_id</th>\n",
       "      <th>product_name</th>\n",
       "      <th>brand_name</th>\n",
       "      <th>rating</th>\n",
       "      <th>rating_count</th>\n",
       "      <th>marked_price</th>\n",
       "      <th>discounted_price</th>\n",
       "      <th>discount_amount</th>\n",
       "      <th>discount_percent</th>\n",
       "      <th>sizes</th>\n",
       "      <th>product_tag</th>\n",
       "      <th>rating_prod</th>\n",
       "      <th>sales_value</th>\n",
       "    </tr>\n",
       "  </thead>\n",
       "  <tbody>\n",
       "    <tr>\n",
       "      <th>3482</th>\n",
       "      <td>17030212</td>\n",
       "      <td>Kurta with Trousers &amp; Dupatta</td>\n",
       "      <td>Biba</td>\n",
       "      <td>5.0</td>\n",
       "      <td>5</td>\n",
       "      <td>3999</td>\n",
       "      <td>2399</td>\n",
       "      <td>1600</td>\n",
       "      <td>40</td>\n",
       "      <td>S,M,L,XL,XXL</td>\n",
       "      <td>kurta-sets</td>\n",
       "      <td>25.0</td>\n",
       "      <td>11995</td>\n",
       "    </tr>\n",
       "    <tr>\n",
       "      <th>4177</th>\n",
       "      <td>17486862</td>\n",
       "      <td>Women Printed Kurta with Palazzos With Dupatta</td>\n",
       "      <td>Indo Era</td>\n",
       "      <td>5.0</td>\n",
       "      <td>5</td>\n",
       "      <td>4999</td>\n",
       "      <td>2549</td>\n",
       "      <td>2450</td>\n",
       "      <td>49</td>\n",
       "      <td>S,M,L,XL,XXL</td>\n",
       "      <td>kurta-sets</td>\n",
       "      <td>25.0</td>\n",
       "      <td>12745</td>\n",
       "    </tr>\n",
       "    <tr>\n",
       "      <th>4285</th>\n",
       "      <td>17889644</td>\n",
       "      <td>Women Chanderi Silk Kurta</td>\n",
       "      <td>EXTRA LOVE BY LIBAS</td>\n",
       "      <td>5.0</td>\n",
       "      <td>7</td>\n",
       "      <td>2199</td>\n",
       "      <td>1099</td>\n",
       "      <td>1100</td>\n",
       "      <td>50</td>\n",
       "      <td>3XL,4XL,5XL,6XL</td>\n",
       "      <td>kurtas</td>\n",
       "      <td>35.0</td>\n",
       "      <td>7693</td>\n",
       "    </tr>\n",
       "    <tr>\n",
       "      <th>5560</th>\n",
       "      <td>17627700</td>\n",
       "      <td>Women Ethnic Motifs Printed Kurta</td>\n",
       "      <td>GERUA</td>\n",
       "      <td>5.0</td>\n",
       "      <td>4</td>\n",
       "      <td>1399</td>\n",
       "      <td>685</td>\n",
       "      <td>714</td>\n",
       "      <td>51</td>\n",
       "      <td>XS,S,M,L,XL,XXL</td>\n",
       "      <td>kurtas</td>\n",
       "      <td>20.0</td>\n",
       "      <td>2740</td>\n",
       "    </tr>\n",
       "    <tr>\n",
       "      <th>5735</th>\n",
       "      <td>17502334</td>\n",
       "      <td>Women Ethnic Motifs Printed Anarkali Kurta</td>\n",
       "      <td>Juniper</td>\n",
       "      <td>5.0</td>\n",
       "      <td>5</td>\n",
       "      <td>2999</td>\n",
       "      <td>1589</td>\n",
       "      <td>1410</td>\n",
       "      <td>47</td>\n",
       "      <td>S,M,L,XL</td>\n",
       "      <td>kurtas</td>\n",
       "      <td>25.0</td>\n",
       "      <td>7945</td>\n",
       "    </tr>\n",
       "    <tr>\n",
       "      <th>...</th>\n",
       "      <td>...</td>\n",
       "      <td>...</td>\n",
       "      <td>...</td>\n",
       "      <td>...</td>\n",
       "      <td>...</td>\n",
       "      <td>...</td>\n",
       "      <td>...</td>\n",
       "      <td>...</td>\n",
       "      <td>...</td>\n",
       "      <td>...</td>\n",
       "      <td>...</td>\n",
       "      <td>...</td>\n",
       "      <td>...</td>\n",
       "    </tr>\n",
       "    <tr>\n",
       "      <th>143371</th>\n",
       "      <td>17090494</td>\n",
       "      <td>Women Solid Kurta</td>\n",
       "      <td>Anouk</td>\n",
       "      <td>5.0</td>\n",
       "      <td>2</td>\n",
       "      <td>2499</td>\n",
       "      <td>1249</td>\n",
       "      <td>1250</td>\n",
       "      <td>50</td>\n",
       "      <td>XS,S,M,L,XL,XXL</td>\n",
       "      <td>kurtas</td>\n",
       "      <td>10.0</td>\n",
       "      <td>2498</td>\n",
       "    </tr>\n",
       "    <tr>\n",
       "      <th>143472</th>\n",
       "      <td>17346372</td>\n",
       "      <td>Women Embroidered Kurta</td>\n",
       "      <td>SHINOY</td>\n",
       "      <td>5.0</td>\n",
       "      <td>3</td>\n",
       "      <td>2499</td>\n",
       "      <td>624</td>\n",
       "      <td>1875</td>\n",
       "      <td>75</td>\n",
       "      <td>S,M,L,XL,XXL</td>\n",
       "      <td>kurtas</td>\n",
       "      <td>15.0</td>\n",
       "      <td>1872</td>\n",
       "    </tr>\n",
       "    <tr>\n",
       "      <th>143864</th>\n",
       "      <td>17629370</td>\n",
       "      <td>Women Ethnic Motifs Printed Anarkali Kurta</td>\n",
       "      <td>Maishi</td>\n",
       "      <td>5.0</td>\n",
       "      <td>3</td>\n",
       "      <td>2289</td>\n",
       "      <td>572</td>\n",
       "      <td>1717</td>\n",
       "      <td>75</td>\n",
       "      <td>S,M,L,XL,XXL</td>\n",
       "      <td>kurtas</td>\n",
       "      <td>15.0</td>\n",
       "      <td>1716</td>\n",
       "    </tr>\n",
       "    <tr>\n",
       "      <th>144911</th>\n",
       "      <td>15612348</td>\n",
       "      <td>Women Ethnic Motifs Yoke Design Kurta</td>\n",
       "      <td>Rangriti</td>\n",
       "      <td>5.0</td>\n",
       "      <td>4</td>\n",
       "      <td>2199</td>\n",
       "      <td>2199</td>\n",
       "      <td>0</td>\n",
       "      <td>0</td>\n",
       "      <td>4XL,6XL</td>\n",
       "      <td>kurtas</td>\n",
       "      <td>20.0</td>\n",
       "      <td>8796</td>\n",
       "    </tr>\n",
       "    <tr>\n",
       "      <th>145660</th>\n",
       "      <td>15368860</td>\n",
       "      <td>Women Ethnic Motifs Printed Liva Kurta</td>\n",
       "      <td>RANGMAYEE</td>\n",
       "      <td>5.0</td>\n",
       "      <td>2</td>\n",
       "      <td>2198</td>\n",
       "      <td>593</td>\n",
       "      <td>1605</td>\n",
       "      <td>73</td>\n",
       "      <td>XS,S,M,L,XL,XXL</td>\n",
       "      <td>kurtas</td>\n",
       "      <td>10.0</td>\n",
       "      <td>1186</td>\n",
       "    </tr>\n",
       "  </tbody>\n",
       "</table>\n",
       "<p>105 rows × 13 columns</p>\n",
       "</div>"
      ],
      "text/plain": [
       "       Product_id                                    product_name  \\\n",
       "3482     17030212                   Kurta with Trousers & Dupatta   \n",
       "4177     17486862  Women Printed Kurta with Palazzos With Dupatta   \n",
       "4285     17889644                       Women Chanderi Silk Kurta   \n",
       "5560     17627700               Women Ethnic Motifs Printed Kurta   \n",
       "5735     17502334      Women Ethnic Motifs Printed Anarkali Kurta   \n",
       "...           ...                                             ...   \n",
       "143371   17090494                               Women Solid Kurta   \n",
       "143472   17346372                         Women Embroidered Kurta   \n",
       "143864   17629370      Women Ethnic Motifs Printed Anarkali Kurta   \n",
       "144911   15612348           Women Ethnic Motifs Yoke Design Kurta   \n",
       "145660   15368860          Women Ethnic Motifs Printed Liva Kurta   \n",
       "\n",
       "                 brand_name  rating  rating_count  marked_price  \\\n",
       "3482                   Biba     5.0             5          3999   \n",
       "4177               Indo Era     5.0             5          4999   \n",
       "4285    EXTRA LOVE BY LIBAS     5.0             7          2199   \n",
       "5560                  GERUA     5.0             4          1399   \n",
       "5735                Juniper     5.0             5          2999   \n",
       "...                     ...     ...           ...           ...   \n",
       "143371                Anouk     5.0             2          2499   \n",
       "143472               SHINOY     5.0             3          2499   \n",
       "143864               Maishi     5.0             3          2289   \n",
       "144911             Rangriti     5.0             4          2199   \n",
       "145660            RANGMAYEE     5.0             2          2198   \n",
       "\n",
       "        discounted_price  discount_amount  discount_percent            sizes  \\\n",
       "3482                2399             1600                40     S,M,L,XL,XXL   \n",
       "4177                2549             2450                49     S,M,L,XL,XXL   \n",
       "4285                1099             1100                50  3XL,4XL,5XL,6XL   \n",
       "5560                 685              714                51  XS,S,M,L,XL,XXL   \n",
       "5735                1589             1410                47         S,M,L,XL   \n",
       "...                  ...              ...               ...              ...   \n",
       "143371              1249             1250                50  XS,S,M,L,XL,XXL   \n",
       "143472               624             1875                75     S,M,L,XL,XXL   \n",
       "143864               572             1717                75     S,M,L,XL,XXL   \n",
       "144911              2199                0                 0          4XL,6XL   \n",
       "145660               593             1605                73  XS,S,M,L,XL,XXL   \n",
       "\n",
       "       product_tag  rating_prod  sales_value  \n",
       "3482    kurta-sets         25.0        11995  \n",
       "4177    kurta-sets         25.0        12745  \n",
       "4285        kurtas         35.0         7693  \n",
       "5560        kurtas         20.0         2740  \n",
       "5735        kurtas         25.0         7945  \n",
       "...            ...          ...          ...  \n",
       "143371      kurtas         10.0         2498  \n",
       "143472      kurtas         15.0         1872  \n",
       "143864      kurtas         15.0         1716  \n",
       "144911      kurtas         20.0         8796  \n",
       "145660      kurtas         10.0         1186  \n",
       "\n",
       "[105 rows x 13 columns]"
      ]
     },
     "metadata": {},
     "output_type": "display_data"
    }
   ],
   "source": [
    "prod_name = input()\n",
    "df_new2 = df[df['product_name'].str.contains(prod_name, case = False)]\n",
    "max_price = df_new2[df_new2[\"discounted_price\"] == df_new2[\"discounted_price\"].max()]\n",
    "min_price = df_new2[df_new2[\"discounted_price\"] == df_new2[\"discounted_price\"].min()]\n",
    "max_rating = df_new2[df_new2[\"rating\"] == df_new2[\"rating\"].max()]\n",
    "print(\"Details of product \" + prod_name + \" having maximum price\")\n",
    "display(max_price)\n",
    "print(\"Details of product \" + prod_name + \" having minimum price\")\n",
    "display(min_price)\n",
    "print(\" Maximum rating product \" + prod_name + \" details\")\n",
    "display(max_rating)"
   ]
  },
  {
   "cell_type": "markdown",
   "id": "d9b2142b",
   "metadata": {},
   "source": [
    "### Product market size, average rating and discount percent"
   ]
  },
  {
   "cell_type": "code",
   "execution_count": 57,
   "id": "4da91a09",
   "metadata": {},
   "outputs": [],
   "source": [
    "df_new = df\n",
    "df_new[\"sales_value\"] = df_new[\"discounted_price\"]*df_new[\"rating_count\"]\n",
    "df_new[\"rating_prod\"] = df_new[\"rating\"]*df_new[\"rating_count\"]\n",
    "product_discounts_sales = df_new.groupby(\"product_tag\").agg({'discount_percent': 'mean', 'sales_value': 'sum', \"rating_prod\":\"sum\", \"rating_count\":\"sum\"}).reset_index()"
   ]
  },
  {
   "cell_type": "code",
   "execution_count": 58,
   "id": "596d0fd2",
   "metadata": {},
   "outputs": [],
   "source": [
    "product_discounts_sales[\"average_rating\"] = product_discounts_sales[\"rating_prod\"]/product_discounts_sales[\"rating_count\"] \n",
    "product_discounts_sales = product_discounts_sales.drop(\"rating_prod\", axis = 1)"
   ]
  },
  {
   "cell_type": "code",
   "execution_count": 59,
   "id": "77aed594",
   "metadata": {
    "scrolled": true
   },
   "outputs": [
    {
     "data": {
      "text/html": [
       "<div>\n",
       "<style scoped>\n",
       "    .dataframe tbody tr th:only-of-type {\n",
       "        vertical-align: middle;\n",
       "    }\n",
       "\n",
       "    .dataframe tbody tr th {\n",
       "        vertical-align: top;\n",
       "    }\n",
       "\n",
       "    .dataframe thead th {\n",
       "        text-align: right;\n",
       "    }\n",
       "</style>\n",
       "<table border=\"1\" class=\"dataframe\">\n",
       "  <thead>\n",
       "    <tr style=\"text-align: right;\">\n",
       "      <th></th>\n",
       "      <th>product_tag</th>\n",
       "      <th>discount_percent</th>\n",
       "      <th>sales_value</th>\n",
       "      <th>rating_count</th>\n",
       "      <th>average_rating</th>\n",
       "    </tr>\n",
       "  </thead>\n",
       "  <tbody>\n",
       "    <tr>\n",
       "      <th>0</th>\n",
       "      <td>accessory-gift-set</td>\n",
       "      <td>46.987500</td>\n",
       "      <td>4744567</td>\n",
       "      <td>3690</td>\n",
       "      <td>4.408672</td>\n",
       "    </tr>\n",
       "    <tr>\n",
       "      <th>1</th>\n",
       "      <td>action-figures-and-play-set</td>\n",
       "      <td>15.500000</td>\n",
       "      <td>5319</td>\n",
       "      <td>9</td>\n",
       "      <td>3.600000</td>\n",
       "    </tr>\n",
       "    <tr>\n",
       "      <th>2</th>\n",
       "      <td>activity-toys-and-games</td>\n",
       "      <td>54.750000</td>\n",
       "      <td>300243</td>\n",
       "      <td>357</td>\n",
       "      <td>3.935014</td>\n",
       "    </tr>\n",
       "    <tr>\n",
       "      <th>3</th>\n",
       "      <td>air-fryer</td>\n",
       "      <td>36.000000</td>\n",
       "      <td>0</td>\n",
       "      <td>0</td>\n",
       "      <td>NaN</td>\n",
       "    </tr>\n",
       "    <tr>\n",
       "      <th>4</th>\n",
       "      <td>anklet</td>\n",
       "      <td>61.295455</td>\n",
       "      <td>2451395</td>\n",
       "      <td>5493</td>\n",
       "      <td>4.267431</td>\n",
       "    </tr>\n",
       "    <tr>\n",
       "      <th>...</th>\n",
       "      <td>...</td>\n",
       "      <td>...</td>\n",
       "      <td>...</td>\n",
       "      <td>...</td>\n",
       "      <td>...</td>\n",
       "    </tr>\n",
       "    <tr>\n",
       "      <th>336</th>\n",
       "      <td>watches</td>\n",
       "      <td>33.308071</td>\n",
       "      <td>664690725</td>\n",
       "      <td>339656</td>\n",
       "      <td>4.283034</td>\n",
       "    </tr>\n",
       "    <tr>\n",
       "      <th>337</th>\n",
       "      <td>water-bottle</td>\n",
       "      <td>21.035294</td>\n",
       "      <td>1143421</td>\n",
       "      <td>1414</td>\n",
       "      <td>4.452122</td>\n",
       "    </tr>\n",
       "    <tr>\n",
       "      <th>338</th>\n",
       "      <td>windchimes</td>\n",
       "      <td>53.666667</td>\n",
       "      <td>7485</td>\n",
       "      <td>15</td>\n",
       "      <td>4.600000</td>\n",
       "    </tr>\n",
       "    <tr>\n",
       "      <th>339</th>\n",
       "      <td>wristbands</td>\n",
       "      <td>45.000000</td>\n",
       "      <td>15360</td>\n",
       "      <td>40</td>\n",
       "      <td>4.400000</td>\n",
       "    </tr>\n",
       "    <tr>\n",
       "      <th>340</th>\n",
       "      <td>yoga-mats</td>\n",
       "      <td>41.615385</td>\n",
       "      <td>1321002</td>\n",
       "      <td>1454</td>\n",
       "      <td>4.376891</td>\n",
       "    </tr>\n",
       "  </tbody>\n",
       "</table>\n",
       "<p>341 rows × 5 columns</p>\n",
       "</div>"
      ],
      "text/plain": [
       "                     product_tag  discount_percent  sales_value  rating_count  \\\n",
       "0             accessory-gift-set         46.987500      4744567          3690   \n",
       "1    action-figures-and-play-set         15.500000         5319             9   \n",
       "2        activity-toys-and-games         54.750000       300243           357   \n",
       "3                      air-fryer         36.000000            0             0   \n",
       "4                         anklet         61.295455      2451395          5493   \n",
       "..                           ...               ...          ...           ...   \n",
       "336                      watches         33.308071    664690725        339656   \n",
       "337                 water-bottle         21.035294      1143421          1414   \n",
       "338                   windchimes         53.666667         7485            15   \n",
       "339                   wristbands         45.000000        15360            40   \n",
       "340                    yoga-mats         41.615385      1321002          1454   \n",
       "\n",
       "     average_rating  \n",
       "0          4.408672  \n",
       "1          3.600000  \n",
       "2          3.935014  \n",
       "3               NaN  \n",
       "4          4.267431  \n",
       "..              ...  \n",
       "336        4.283034  \n",
       "337        4.452122  \n",
       "338        4.600000  \n",
       "339        4.400000  \n",
       "340        4.376891  \n",
       "\n",
       "[341 rows x 5 columns]"
      ]
     },
     "execution_count": 59,
     "metadata": {},
     "output_type": "execute_result"
    }
   ],
   "source": [
    "product_discounts_sales "
   ]
  },
  {
   "cell_type": "code",
   "execution_count": 60,
   "id": "72116bb7",
   "metadata": {},
   "outputs": [
    {
     "data": {
      "image/png": "[encoded data removed]",
      "text/plain": [
       "<Figure size 640x480 with 1 Axes>"
      ]
     },
     "metadata": {},
     "output_type": "display_data"
    }
   ],
   "source": [
    "sns.barplot(data = product_discounts_sales.sort_values(\"sales_value\", ascending = False).head(10), x = \"product_tag\", y = \"sales_value\" )\n",
    "plt.xticks(rotation = 90)\n",
    "plt.show()"
   ]
  },
  {
   "cell_type": "code",
   "execution_count": 61,
   "id": "85f1d8af",
   "metadata": {},
   "outputs": [
    {
     "data": {
      "image/png": "[encoded data removed]",
      "text/plain": [
       "<Figure size 640x480 with 1 Axes>"
      ]
     },
     "metadata": {},
     "output_type": "display_data"
    }
   ],
   "source": [
    "sns.barplot(data = product_discounts_sales.sort_values(\"average_rating\", ascending = False).head(10), x = \"product_tag\", y = \"average_rating\" )\n",
    "plt.xticks(rotation = 90)\n",
    "plt.show()"
   ]
  },
  {
   "cell_type": "code",
   "execution_count": 62,
   "id": "a9461141",
   "metadata": {},
   "outputs": [
    {
     "data": {
      "text/plain": [
       "<AxesSubplot: xlabel='average_rating', ylabel='sales_value'>"
      ]
     },
     "execution_count": 62,
     "metadata": {},
     "output_type": "execute_result"
    },
    {
     "data": {
      "image/png": "[encoded data removed]",
      "text/plain": [
       "<Figure size 1000x400 with 2 Axes>"
      ]
     },
     "metadata": {},
     "output_type": "display_data"
    }
   ],
   "source": [
    "plt.figure(figsize = (10,4))\n",
    "plt.subplot(1,2,1)\n",
    "sns.scatterplot(data = product_discounts_sales, x=\"discount_percent\" , y= \"sales_value\")\n",
    "plt.subplot(1,2,2)\n",
    "sns.scatterplot(data = product_discounts_sales, x=\"average_rating\" , y= \"sales_value\")"
   ]
  },
  {
   "cell_type": "markdown",
   "id": "7416c1e1",
   "metadata": {},
   "source": [
    "### How does the average discount percent vary across different product tags?"
   ]
  },
  {
   "cell_type": "code",
   "execution_count": 63,
   "id": "9d1138d0",
   "metadata": {
    "scrolled": true
   },
   "outputs": [
    {
     "name": "stderr",
     "output_type": "stream",
     "text": [
      "C:\\Users\\GFG19189\\AppData\\Local\\Temp\\ipykernel_11944\\1116375924.py:1: UserWarning: \n",
      "\n",
      "`distplot` is a deprecated function and will be removed in seaborn v0.14.0.\n",
      "\n",
      "Please adapt your code to use either `displot` (a figure-level function with\n",
      "similar flexibility) or `histplot` (an axes-level function for histograms).\n",
      "\n",
      "For a guide to updating your code to use the new functions, please see\n",
      "https://gist.github.com/mwaskom/de44147ed2974457ad6372750bbe5751\n",
      "\n",
      "  sns.distplot(product_discounts_sales[\"discount_percent\"] )\n"
     ]
    },
    {
     "data": {
      "text/plain": [
       "<AxesSubplot: xlabel='discount_percent', ylabel='Density'>"
      ]
     },
     "execution_count": 63,
     "metadata": {},
     "output_type": "execute_result"
    },
    {
     "data": {
      "image/png": "[encoded data removed]",
      "text/plain": [
       "<Figure size 640x480 with 1 Axes>"
      ]
     },
     "metadata": {},
     "output_type": "display_data"
    }
   ],
   "source": [
    "sns.distplot(product_discounts_sales[\"discount_percent\"] )"
   ]
  },
  {
   "cell_type": "markdown",
   "id": "ac3a4832",
   "metadata": {},
   "source": [
    "### Are there any correlations between the rating, discount percent, and sales value of the products?"
   ]
  },
  {
   "cell_type": "code",
   "execution_count": 64,
   "id": "7eaa6d16",
   "metadata": {},
   "outputs": [
    {
     "name": "stderr",
     "output_type": "stream",
     "text": [
      "C:\\Users\\GFG19189\\AppData\\Local\\Temp\\ipykernel_11944\\1818167198.py:1: FutureWarning: The default value of numeric_only in DataFrame.corr is deprecated. In a future version, it will default to False. Select only valid columns or specify the value of numeric_only to silence this warning.\n",
      "  product_discounts_sales.corr()\n"
     ]
    },
    {
     "data": {
      "text/html": [
       "<div>\n",
       "<style scoped>\n",
       "    .dataframe tbody tr th:only-of-type {\n",
       "        vertical-align: middle;\n",
       "    }\n",
       "\n",
       "    .dataframe tbody tr th {\n",
       "        vertical-align: top;\n",
       "    }\n",
       "\n",
       "    .dataframe thead th {\n",
       "        text-align: right;\n",
       "    }\n",
       "</style>\n",
       "<table border=\"1\" class=\"dataframe\">\n",
       "  <thead>\n",
       "    <tr style=\"text-align: right;\">\n",
       "      <th></th>\n",
       "      <th>discount_percent</th>\n",
       "      <th>sales_value</th>\n",
       "      <th>rating_count</th>\n",
       "      <th>average_rating</th>\n",
       "    </tr>\n",
       "  </thead>\n",
       "  <tbody>\n",
       "    <tr>\n",
       "      <th>discount_percent</th>\n",
       "      <td>1.000000</td>\n",
       "      <td>0.038687</td>\n",
       "      <td>-0.015342</td>\n",
       "      <td>-0.261146</td>\n",
       "    </tr>\n",
       "    <tr>\n",
       "      <th>sales_value</th>\n",
       "      <td>0.038687</td>\n",
       "      <td>1.000000</td>\n",
       "      <td>0.911296</td>\n",
       "      <td>-0.070674</td>\n",
       "    </tr>\n",
       "    <tr>\n",
       "      <th>rating_count</th>\n",
       "      <td>-0.015342</td>\n",
       "      <td>0.911296</td>\n",
       "      <td>1.000000</td>\n",
       "      <td>-0.036192</td>\n",
       "    </tr>\n",
       "    <tr>\n",
       "      <th>average_rating</th>\n",
       "      <td>-0.261146</td>\n",
       "      <td>-0.070674</td>\n",
       "      <td>-0.036192</td>\n",
       "      <td>1.000000</td>\n",
       "    </tr>\n",
       "  </tbody>\n",
       "</table>\n",
       "</div>"
      ],
      "text/plain": [
       "                  discount_percent  sales_value  rating_count  average_rating\n",
       "discount_percent          1.000000     0.038687     -0.015342       -0.261146\n",
       "sales_value               0.038687     1.000000      0.911296       -0.070674\n",
       "rating_count             -0.015342     0.911296      1.000000       -0.036192\n",
       "average_rating           -0.261146    -0.070674     -0.036192        1.000000"
      ]
     },
     "execution_count": 64,
     "metadata": {},
     "output_type": "execute_result"
    }
   ],
   "source": [
    "product_discounts_sales.corr() "
   ]
  },
  {
   "cell_type": "code",
   "execution_count": 65,
   "id": "5aa9e5d4",
   "metadata": {},
   "outputs": [
    {
     "name": "stderr",
     "output_type": "stream",
     "text": [
      "C:\\Users\\GFG19189\\AppData\\Local\\Temp\\ipykernel_11944\\1198286460.py:1: FutureWarning: The default value of numeric_only in DataFrame.corr is deprecated. In a future version, it will default to False. Select only valid columns or specify the value of numeric_only to silence this warning.\n",
      "  sns.heatmap(product_discounts_sales.corr(), cmap = \"coolwarm\" )\n"
     ]
    },
    {
     "data": {
      "text/plain": [
       "<AxesSubplot: >"
      ]
     },
     "execution_count": 65,
     "metadata": {},
     "output_type": "execute_result"
    },
    {
     "data": {
      "image/png": "[encoded data removed]",
      "text/plain": [
       "<Figure size 640x480 with 2 Axes>"
      ]
     },
     "metadata": {},
     "output_type": "display_data"
    }
   ],
   "source": [
    "sns.heatmap(product_discounts_sales.corr(), cmap = \"coolwarm\" )"
   ]
  },
  {
   "cell_type": "markdown",
   "id": "44c16079",
   "metadata": {},
   "source": [
    "### Which brand has the highest average rating among different products?"
   ]
  },
  {
   "cell_type": "code",
   "execution_count": 88,
   "id": "6211a750",
   "metadata": {},
   "outputs": [
    {
     "data": {
      "text/html": [
       "<div>\n",
       "<style scoped>\n",
       "    .dataframe tbody tr th:only-of-type {\n",
       "        vertical-align: middle;\n",
       "    }\n",
       "\n",
       "    .dataframe tbody tr th {\n",
       "        vertical-align: top;\n",
       "    }\n",
       "\n",
       "    .dataframe thead th {\n",
       "        text-align: right;\n",
       "    }\n",
       "</style>\n",
       "<table border=\"1\" class=\"dataframe\">\n",
       "  <thead>\n",
       "    <tr style=\"text-align: right;\">\n",
       "      <th></th>\n",
       "      <th>Product_id</th>\n",
       "      <th>product_name</th>\n",
       "      <th>brand_name</th>\n",
       "      <th>rating</th>\n",
       "      <th>rating_count</th>\n",
       "      <th>marked_price</th>\n",
       "      <th>discounted_price</th>\n",
       "      <th>discount_amount</th>\n",
       "      <th>discount_percent</th>\n",
       "      <th>sizes</th>\n",
       "      <th>product_tag</th>\n",
       "      <th>rating_prod</th>\n",
       "      <th>sales_value</th>\n",
       "    </tr>\n",
       "  </thead>\n",
       "  <tbody>\n",
       "    <tr>\n",
       "      <th>0</th>\n",
       "      <td>18070682</td>\n",
       "      <td>Croc Textured Two Fold Wallet</td>\n",
       "      <td>Lino Perros</td>\n",
       "      <td>0.0</td>\n",
       "      <td>0</td>\n",
       "      <td>1295</td>\n",
       "      <td>828</td>\n",
       "      <td>467</td>\n",
       "      <td>36</td>\n",
       "      <td>Onesize</td>\n",
       "      <td>wallets</td>\n",
       "      <td>0.0</td>\n",
       "      <td>0</td>\n",
       "    </tr>\n",
       "    <tr>\n",
       "      <th>1</th>\n",
       "      <td>12548958</td>\n",
       "      <td>Men Striped Sliders</td>\n",
       "      <td>Mast &amp; Harbour</td>\n",
       "      <td>4.0</td>\n",
       "      <td>76</td>\n",
       "      <td>1299</td>\n",
       "      <td>584</td>\n",
       "      <td>715</td>\n",
       "      <td>55</td>\n",
       "      <td>UK6,UK7,UK8,UK9,UK10,UK11</td>\n",
       "      <td>flip-flops</td>\n",
       "      <td>304.0</td>\n",
       "      <td>44384</td>\n",
       "    </tr>\n",
       "  </tbody>\n",
       "</table>\n",
       "</div>"
      ],
      "text/plain": [
       "  Product_id                   product_name      brand_name  rating  \\\n",
       "0   18070682  Croc Textured Two Fold Wallet     Lino Perros     0.0   \n",
       "1   12548958            Men Striped Sliders  Mast & Harbour     4.0   \n",
       "\n",
       "   rating_count  marked_price  discounted_price  discount_amount  \\\n",
       "0             0          1295               828              467   \n",
       "1            76          1299               584              715   \n",
       "\n",
       "   discount_percent                      sizes product_tag  rating_prod  \\\n",
       "0                36                    Onesize     wallets          0.0   \n",
       "1                55  UK6,UK7,UK8,UK9,UK10,UK11  flip-flops        304.0   \n",
       "\n",
       "   sales_value  \n",
       "0            0  \n",
       "1        44384  "
      ]
     },
     "execution_count": 88,
     "metadata": {},
     "output_type": "execute_result"
    }
   ],
   "source": [
    "df.head(2)"
   ]
  },
  {
   "cell_type": "code",
   "execution_count": 89,
   "id": "3c53e859",
   "metadata": {},
   "outputs": [
    {
     "name": "stderr",
     "output_type": "stream",
     "text": [
      "C:\\Users\\GFG19189\\AppData\\Local\\Temp\\ipykernel_11944\\1090884151.py:1: FutureWarning: The default value of numeric_only in DataFrameGroupBy.sum is deprecated. In a future version, numeric_only will default to False. Either specify numeric_only or select only columns which should be valid for the function.\n",
      "  df_prod_brand = df.groupby([\"product_tag\", \"brand_name\"]).sum()\n"
     ]
    }
   ],
   "source": [
    "df_prod_brand = df.groupby([\"product_tag\", \"brand_name\"]).sum()"
   ]
  },
  {
   "cell_type": "code",
   "execution_count": 90,
   "id": "a3db4906",
   "metadata": {},
   "outputs": [],
   "source": [
    "df_prod_brand[\"avg_rating\"] = df_prod_brand[\"rating_prod\"]/df_prod_brand[\"rating_count\"]"
   ]
  },
  {
   "cell_type": "code",
   "execution_count": 92,
   "id": "acea3de5",
   "metadata": {
    "scrolled": true
   },
   "outputs": [],
   "source": [
    "df_prod_brand = df_prod_brand.reset_index()"
   ]
  },
  {
   "cell_type": "code",
   "execution_count": 93,
   "id": "ba8c9d5a",
   "metadata": {},
   "outputs": [
    {
     "data": {
      "text/html": [
       "<div>\n",
       "<style scoped>\n",
       "    .dataframe tbody tr th:only-of-type {\n",
       "        vertical-align: middle;\n",
       "    }\n",
       "\n",
       "    .dataframe tbody tr th {\n",
       "        vertical-align: top;\n",
       "    }\n",
       "\n",
       "    .dataframe thead th {\n",
       "        text-align: right;\n",
       "    }\n",
       "</style>\n",
       "<table border=\"1\" class=\"dataframe\">\n",
       "  <thead>\n",
       "    <tr style=\"text-align: right;\">\n",
       "      <th></th>\n",
       "      <th>product_tag</th>\n",
       "      <th>brand_name</th>\n",
       "      <th>rating</th>\n",
       "      <th>rating_count</th>\n",
       "      <th>marked_price</th>\n",
       "      <th>discounted_price</th>\n",
       "      <th>discount_amount</th>\n",
       "      <th>discount_percent</th>\n",
       "      <th>rating_prod</th>\n",
       "      <th>sales_value</th>\n",
       "      <th>avg_rating</th>\n",
       "    </tr>\n",
       "  </thead>\n",
       "  <tbody>\n",
       "    <tr>\n",
       "      <th>0</th>\n",
       "      <td>accessory-gift-set</td>\n",
       "      <td>Allen Solly</td>\n",
       "      <td>0.0</td>\n",
       "      <td>0</td>\n",
       "      <td>16993</td>\n",
       "      <td>13423</td>\n",
       "      <td>3570</td>\n",
       "      <td>147</td>\n",
       "      <td>0.0</td>\n",
       "      <td>0</td>\n",
       "      <td>NaN</td>\n",
       "    </tr>\n",
       "    <tr>\n",
       "      <th>1</th>\n",
       "      <td>accessory-gift-set</td>\n",
       "      <td>Blacksmith</td>\n",
       "      <td>7.8</td>\n",
       "      <td>167</td>\n",
       "      <td>18597</td>\n",
       "      <td>4847</td>\n",
       "      <td>13750</td>\n",
       "      <td>209</td>\n",
       "      <td>681.9</td>\n",
       "      <td>307113</td>\n",
       "      <td>4.083234</td>\n",
       "    </tr>\n",
       "    <tr>\n",
       "      <th>2</th>\n",
       "      <td>accessory-gift-set</td>\n",
       "      <td>COSA NOSTRAA</td>\n",
       "      <td>0.0</td>\n",
       "      <td>0</td>\n",
       "      <td>7898</td>\n",
       "      <td>5923</td>\n",
       "      <td>1975</td>\n",
       "      <td>50</td>\n",
       "      <td>0.0</td>\n",
       "      <td>0</td>\n",
       "      <td>NaN</td>\n",
       "    </tr>\n",
       "    <tr>\n",
       "      <th>3</th>\n",
       "      <td>accessory-gift-set</td>\n",
       "      <td>CRUSSET</td>\n",
       "      <td>9.4</td>\n",
       "      <td>36</td>\n",
       "      <td>4298</td>\n",
       "      <td>1116</td>\n",
       "      <td>3182</td>\n",
       "      <td>148</td>\n",
       "      <td>169.2</td>\n",
       "      <td>20088</td>\n",
       "      <td>4.700000</td>\n",
       "    </tr>\n",
       "    <tr>\n",
       "      <th>4</th>\n",
       "      <td>accessory-gift-set</td>\n",
       "      <td>Calvadoss</td>\n",
       "      <td>11.0</td>\n",
       "      <td>23</td>\n",
       "      <td>13194</td>\n",
       "      <td>3847</td>\n",
       "      <td>9347</td>\n",
       "      <td>347</td>\n",
       "      <td>85.4</td>\n",
       "      <td>17419</td>\n",
       "      <td>3.713043</td>\n",
       "    </tr>\n",
       "    <tr>\n",
       "      <th>...</th>\n",
       "      <td>...</td>\n",
       "      <td>...</td>\n",
       "      <td>...</td>\n",
       "      <td>...</td>\n",
       "      <td>...</td>\n",
       "      <td>...</td>\n",
       "      <td>...</td>\n",
       "      <td>...</td>\n",
       "      <td>...</td>\n",
       "      <td>...</td>\n",
       "      <td>...</td>\n",
       "    </tr>\n",
       "    <tr>\n",
       "      <th>12213</th>\n",
       "      <td>yoga-mats</td>\n",
       "      <td>LUXEHOME INTERNATIONAL</td>\n",
       "      <td>0.0</td>\n",
       "      <td>0</td>\n",
       "      <td>799</td>\n",
       "      <td>799</td>\n",
       "      <td>0</td>\n",
       "      <td>0</td>\n",
       "      <td>0.0</td>\n",
       "      <td>0</td>\n",
       "      <td>NaN</td>\n",
       "    </tr>\n",
       "    <tr>\n",
       "      <th>12214</th>\n",
       "      <td>yoga-mats</td>\n",
       "      <td>Man Matters</td>\n",
       "      <td>4.8</td>\n",
       "      <td>10</td>\n",
       "      <td>699</td>\n",
       "      <td>503</td>\n",
       "      <td>196</td>\n",
       "      <td>28</td>\n",
       "      <td>48.0</td>\n",
       "      <td>5030</td>\n",
       "      <td>4.800000</td>\n",
       "    </tr>\n",
       "    <tr>\n",
       "      <th>12215</th>\n",
       "      <td>yoga-mats</td>\n",
       "      <td>NYAMBA By Decathlon</td>\n",
       "      <td>4.1</td>\n",
       "      <td>46</td>\n",
       "      <td>1499</td>\n",
       "      <td>1499</td>\n",
       "      <td>0</td>\n",
       "      <td>0</td>\n",
       "      <td>188.6</td>\n",
       "      <td>68954</td>\n",
       "      <td>4.100000</td>\n",
       "    </tr>\n",
       "    <tr>\n",
       "      <th>12216</th>\n",
       "      <td>yoga-mats</td>\n",
       "      <td>Puma</td>\n",
       "      <td>7.5</td>\n",
       "      <td>285</td>\n",
       "      <td>3998</td>\n",
       "      <td>2498</td>\n",
       "      <td>1500</td>\n",
       "      <td>80</td>\n",
       "      <td>1278.0</td>\n",
       "      <td>216465</td>\n",
       "      <td>4.484211</td>\n",
       "    </tr>\n",
       "    <tr>\n",
       "      <th>12217</th>\n",
       "      <td>yoga-mats</td>\n",
       "      <td>Sasimo</td>\n",
       "      <td>27.1</td>\n",
       "      <td>98</td>\n",
       "      <td>21994</td>\n",
       "      <td>6054</td>\n",
       "      <td>15940</td>\n",
       "      <td>436</td>\n",
       "      <td>442.4</td>\n",
       "      <td>103067</td>\n",
       "      <td>4.514286</td>\n",
       "    </tr>\n",
       "  </tbody>\n",
       "</table>\n",
       "<p>12218 rows × 11 columns</p>\n",
       "</div>"
      ],
      "text/plain": [
       "              product_tag              brand_name  rating  rating_count  \\\n",
       "0      accessory-gift-set             Allen Solly     0.0             0   \n",
       "1      accessory-gift-set              Blacksmith     7.8           167   \n",
       "2      accessory-gift-set            COSA NOSTRAA     0.0             0   \n",
       "3      accessory-gift-set                 CRUSSET     9.4            36   \n",
       "4      accessory-gift-set               Calvadoss    11.0            23   \n",
       "...                   ...                     ...     ...           ...   \n",
       "12213           yoga-mats  LUXEHOME INTERNATIONAL     0.0             0   \n",
       "12214           yoga-mats             Man Matters     4.8            10   \n",
       "12215           yoga-mats     NYAMBA By Decathlon     4.1            46   \n",
       "12216           yoga-mats                    Puma     7.5           285   \n",
       "12217           yoga-mats                  Sasimo    27.1            98   \n",
       "\n",
       "       marked_price  discounted_price  discount_amount  discount_percent  \\\n",
       "0             16993             13423             3570               147   \n",
       "1             18597              4847            13750               209   \n",
       "2              7898              5923             1975                50   \n",
       "3              4298              1116             3182               148   \n",
       "4             13194              3847             9347               347   \n",
       "...             ...               ...              ...               ...   \n",
       "12213           799               799                0                 0   \n",
       "12214           699               503              196                28   \n",
       "12215          1499              1499                0                 0   \n",
       "12216          3998              2498             1500                80   \n",
       "12217         21994              6054            15940               436   \n",
       "\n",
       "       rating_prod  sales_value  avg_rating  \n",
       "0              0.0            0         NaN  \n",
       "1            681.9       307113    4.083234  \n",
       "2              0.0            0         NaN  \n",
       "3            169.2        20088    4.700000  \n",
       "4             85.4        17419    3.713043  \n",
       "...            ...          ...         ...  \n",
       "12213          0.0            0         NaN  \n",
       "12214         48.0         5030    4.800000  \n",
       "12215        188.6        68954    4.100000  \n",
       "12216       1278.0       216465    4.484211  \n",
       "12217        442.4       103067    4.514286  \n",
       "\n",
       "[12218 rows x 11 columns]"
      ]
     },
     "execution_count": 93,
     "metadata": {},
     "output_type": "execute_result"
    }
   ],
   "source": [
    "df_prod_brand"
   ]
  },
  {
   "cell_type": "code",
   "execution_count": 94,
   "id": "7374161b",
   "metadata": {},
   "outputs": [
    {
     "data": {
      "text/plain": [
       "array(['accessory-gift-set', 'action-figures-and-play-set',\n",
       "       'activity-toys-and-games', 'air-fryer', 'anklet',\n",
       "       'appliance-covers', 'aprons', 'aroma-oil-diffusers',\n",
       "       'artificial-flowers-and-plants', 'baby-apparel-gift-set',\n",
       "       'baby-bed-sets', 'baby-care-products', 'baby-dolls',\n",
       "       'baby-gear--nursery', 'baby-photoshoot-props', 'baby-utensils',\n",
       "       'backpacks', 'badminton-racquets', 'bakeware', 'bangle',\n",
       "       'bar-accessories', 'bar-and-drinkware', 'basketballs',\n",
       "       'bath-accessories', 'bath-and-body-gift-set', 'bath-robe',\n",
       "       'bath-rugs', 'bath-soak-salt-and-oil', 'bath-towels',\n",
       "       'bathroom-accessories', 'bb-and-cc-cream', 'bean-bag-cover',\n",
       "       'beard--moustache-care', 'beauty-accessory', 'beauty-gift-set',\n",
       "       'bed-covers', 'bedding-set', 'bedsheets', 'belts', 'bibs', 'bins',\n",
       "       'blankets-quilts-and-dohars', 'blazers', 'bleach', 'body-lotion',\n",
       "       'body-oil', 'body-wash-and-scrub', 'body-wax-and-essentials',\n",
       "       'bodysuit', 'bolster-covers', 'bolsters', 'booties', 'boots',\n",
       "       'box', 'boxers', 'bra', 'bracelet', 'briefs', 'brooch', 'burqas',\n",
       "       'camisoles', 'candle-holders', 'candles', 'capris', 'caps',\n",
       "       'carpets', 'carry-cot', 'casual-shoes', 'ceiling-lamps',\n",
       "       'chair-cover', 'charms', 'churidar', 'clocks', 'clothing-fabric',\n",
       "       'clothing-set', 'clutches', 'co-ords', 'coasters', 'coats',\n",
       "       'coffee-maker', 'compact', 'concealer', 'condoms',\n",
       "       'construction-toys', 'cookware', 'cricket-bats', 'cufflinks',\n",
       "       'cups-and-mugs', 'curtains-and-sheers', 'cushion-covers',\n",
       "       'cushions', 'cutlery', 'decals-and-stickers', 'decorative-bowls',\n",
       "       'deodorant', 'dhotis', 'diaper-bags', 'dining-essentials',\n",
       "       'dinnerware', 'diwan-set', 'doormats', 'dress-material', 'dresses',\n",
       "       'duffel-bag', 'dungarees', 'dupatta', 'duvet-cover', 'earrings',\n",
       "       'egg-boiler', 'electric-kettle', 'epilator', 'eye-cream',\n",
       "       'eyebrow-enhancer', 'eyeshadow', 'face-moisturisers',\n",
       "       'face-scrub-and-exfoliator', 'face-serum-and-gel', 'face-towels',\n",
       "       'face-wash-and-cleanser', 'facial-kit', 'feminine-hygiene',\n",
       "       'festive-decor', 'fitness-bands', 'flats', 'flip-flops',\n",
       "       'floor-lamps', 'floor-mats--dhurries', 'footballs', 'formal-shoes',\n",
       "       'foundation-and-primer', 'fountains', 'fragrance-gift-set',\n",
       "       'frames', 'free-gifts', 'gloves', 'hair-accessory',\n",
       "       'hair-appliance', 'hair-brush-and-comb', 'hair-care-kit',\n",
       "       'hair-colour', 'hair-cream-and-mask', 'hair-gel-and-spray',\n",
       "       'hair-oil', 'hair-serum', 'hand-and-feet-cream', 'hand-blender',\n",
       "       'hand-towels', 'hand-wash-and-sanitizer', 'handbags',\n",
       "       'handkerchief', 'hanger', 'harem-pants', 'hat', 'head-jewellery',\n",
       "       'headband', 'headphones', 'heels', 'helmets',\n",
       "       'highlighter-and-blush', 'home-fragrances', 'home-gift-sets',\n",
       "       'hooks-and-holders', 'innerwear-vests', 'jackets', 'jeans',\n",
       "       'jeggings', 'jewellery-set', 'juicers', 'jumpsuit',\n",
       "       'kajal-and-eyeliner', 'kaleeras', 'key-chain', 'key-holders',\n",
       "       'kids-table', 'kitchen-storage', 'kitchen-tools', 'kurta-sets',\n",
       "       'kurtas', 'kurtis', 'laptop-bag', 'laptop-table', 'laundry-bag',\n",
       "       'learning-and-development-toys', 'leggings', 'lehenga-choli',\n",
       "       'lingerie-accessories', 'lingerie-set', 'lip-care', 'lip-gloss',\n",
       "       'lip-liner', 'lipstick', 'lounge-pants', 'lounge-shorts',\n",
       "       'lounge-tshirts', 'lubricants', 'makeup-brushes',\n",
       "       'makeup-gift-set', 'makeup-kit', 'makeup-remover', 'mangalsutra',\n",
       "       'mascara', 'mask-and-peel', 'mask-chains', 'massager',\n",
       "       'mattress-protector', 'mens-grooming-kit', 'messenger-bag',\n",
       "       'mirrors', 'mobile-accessories', 'mosquito-nets', 'mufflers',\n",
       "       'nail-essentials', 'nail-polish', 'necklace-and-chains',\n",
       "       'nehru-jackets', 'night-suits', 'nightdress', 'nosepin',\n",
       "       'organisers', 'ottomans', 'outdoor-masks', 'palazzos', 'patiala',\n",
       "       'patiala-and-dupatta', 'pendant', 'pens', 'perfume-and-body-mist',\n",
       "       'photo-frames', 'pillow-covers', 'pillows', 'planters',\n",
       "       'pocket-squares', 'pooja-essentials', 'potpourri', 'pyjamas',\n",
       "       'rain-jacket', 'rain-suit', 'rain-trousers', 'ride-on-toys',\n",
       "       'ring', 'robe', 'rompers', 'rucksacks', 'runners', 'salwar',\n",
       "       'salwar-and-dupatta', 'sandals', 'sandwich-maker',\n",
       "       'saree-accessories', 'saree-blouse', 'sarees', 'scarves',\n",
       "       'serveware', 'shampoo-and-conditioner', 'shapewear',\n",
       "       'shaving-brush--razor', 'shaving-essentials', 'shawl', 'sherwani',\n",
       "       'shirts', 'shoe-accessories', 'shoe-care', 'shorts',\n",
       "       'shower-curtains', 'showpieces', 'shrug', 'silver-coins',\n",
       "       'sindoor', 'skin-care-gift-set', 'skirts', 'sleeping-bag',\n",
       "       'sleepsuit', 'slips', 'smart-watches', 'socks', 'sofa-covers',\n",
       "       'soft-toys-and-dolls', 'speakers', 'sports-accessories',\n",
       "       'sports-sandals', 'sports-shoes', 'stationery', 'stockings',\n",
       "       'stoles', 'string-lights', 'suits', 'sunglasses', 'sunscreen',\n",
       "       'suspenders', 'sweaters', 'sweatshirts', 'swim-bottoms',\n",
       "       'swim-tops', 'swimwear', 'swimwear-accessories', 'table-covers',\n",
       "       'table-lamps', 'table-linen-sets', 'table-napkins',\n",
       "       'table-placemats', 'thermal-bottoms', 'thermal-set',\n",
       "       'thermal-tops', 'throws', 'ties', 'ties-and-cufflinks', 'tights',\n",
       "       'tissues-and-wipes', 'toe-rings', 'toiletry-kit', 'toner', 'tops',\n",
       "       'towel-set', 'toy-vehicles', 'track-pants', 'tracksuits',\n",
       "       'travel-accessory', 'trays', 'trimmer', 'trolley-bag', 'trousers',\n",
       "       'trunk', 'tshirts', 'tunics', 'umbrellas', 'vases', 'waist-pouch',\n",
       "       'waistcoat', 'wall-art', 'wall-decor', 'wall-lamps',\n",
       "       'wall-shelves', 'wallets', 'watch-gift-set', 'watch-organiser',\n",
       "       'watch-straps', 'watches', 'water-bottle', 'windchimes',\n",
       "       'wristbands', 'yoga-mats'], dtype=object)"
      ]
     },
     "execution_count": 94,
     "metadata": {},
     "output_type": "execute_result"
    }
   ],
   "source": [
    "df_prod_brand[\"product_tag\"].unique()"
   ]
  },
  {
   "cell_type": "code",
   "execution_count": 114,
   "id": "3650ec0d",
   "metadata": {},
   "outputs": [
    {
     "data": {
      "text/html": [
       "<div>\n",
       "<style scoped>\n",
       "    .dataframe tbody tr th:only-of-type {\n",
       "        vertical-align: middle;\n",
       "    }\n",
       "\n",
       "    .dataframe tbody tr th {\n",
       "        vertical-align: top;\n",
       "    }\n",
       "\n",
       "    .dataframe thead th {\n",
       "        text-align: right;\n",
       "    }\n",
       "</style>\n",
       "<table border=\"1\" class=\"dataframe\">\n",
       "  <thead>\n",
       "    <tr style=\"text-align: right;\">\n",
       "      <th></th>\n",
       "      <th>brand_name</th>\n",
       "      <th>avg_rating</th>\n",
       "    </tr>\n",
       "  </thead>\n",
       "  <tbody>\n",
       "    <tr>\n",
       "      <th>8367</th>\n",
       "      <td>Luxure by Louis Philippe</td>\n",
       "      <td>5.000000</td>\n",
       "    </tr>\n",
       "    <tr>\n",
       "      <th>8332</th>\n",
       "      <td>JBN Creation</td>\n",
       "      <td>5.000000</td>\n",
       "    </tr>\n",
       "    <tr>\n",
       "      <th>8450</th>\n",
       "      <td>SHIRT THEORY</td>\n",
       "      <td>5.000000</td>\n",
       "    </tr>\n",
       "    <tr>\n",
       "      <th>8306</th>\n",
       "      <td>HOUSE OF KKARMA</td>\n",
       "      <td>5.000000</td>\n",
       "    </tr>\n",
       "    <tr>\n",
       "      <th>8528</th>\n",
       "      <td>YOVISH</td>\n",
       "      <td>4.820000</td>\n",
       "    </tr>\n",
       "    <tr>\n",
       "      <th>8533</th>\n",
       "      <td>Zeal</td>\n",
       "      <td>4.800000</td>\n",
       "    </tr>\n",
       "    <tr>\n",
       "      <th>8238</th>\n",
       "      <td>CAVIO</td>\n",
       "      <td>4.760000</td>\n",
       "    </tr>\n",
       "    <tr>\n",
       "      <th>8204</th>\n",
       "      <td>Allen Solly Junior</td>\n",
       "      <td>4.734375</td>\n",
       "    </tr>\n",
       "    <tr>\n",
       "      <th>8291</th>\n",
       "      <td>Fbella</td>\n",
       "      <td>4.714286</td>\n",
       "    </tr>\n",
       "    <tr>\n",
       "      <th>8398</th>\n",
       "      <td>Nauti Nati</td>\n",
       "      <td>4.700000</td>\n",
       "    </tr>\n",
       "    <tr>\n",
       "      <th>8269</th>\n",
       "      <td>Divena</td>\n",
       "      <td>4.700000</td>\n",
       "    </tr>\n",
       "    <tr>\n",
       "      <th>8272</th>\n",
       "      <td>EVOQ</td>\n",
       "      <td>4.700000</td>\n",
       "    </tr>\n",
       "    <tr>\n",
       "      <th>8452</th>\n",
       "      <td>SHOWOFF Plus</td>\n",
       "      <td>4.700000</td>\n",
       "    </tr>\n",
       "    <tr>\n",
       "      <th>8320</th>\n",
       "      <td>IVOC Plus</td>\n",
       "      <td>4.700000</td>\n",
       "    </tr>\n",
       "    <tr>\n",
       "      <th>8213</th>\n",
       "      <td>Arrow New York</td>\n",
       "      <td>4.640000</td>\n",
       "    </tr>\n",
       "    <tr>\n",
       "      <th>8358</th>\n",
       "      <td>Lakshita</td>\n",
       "      <td>4.600000</td>\n",
       "    </tr>\n",
       "    <tr>\n",
       "      <th>8518</th>\n",
       "      <td>WILD WEST Plus</td>\n",
       "      <td>4.600000</td>\n",
       "    </tr>\n",
       "    <tr>\n",
       "      <th>8482</th>\n",
       "      <td>The Souled Store</td>\n",
       "      <td>4.600000</td>\n",
       "    </tr>\n",
       "    <tr>\n",
       "      <th>8198</th>\n",
       "      <td>AND</td>\n",
       "      <td>4.600000</td>\n",
       "    </tr>\n",
       "    <tr>\n",
       "      <th>8471</th>\n",
       "      <td>StyleStone</td>\n",
       "      <td>4.600000</td>\n",
       "    </tr>\n",
       "  </tbody>\n",
       "</table>\n",
       "</div>"
      ],
      "text/plain": [
       "                    brand_name  avg_rating\n",
       "8367  Luxure by Louis Philippe    5.000000\n",
       "8332              JBN Creation    5.000000\n",
       "8450              SHIRT THEORY    5.000000\n",
       "8306           HOUSE OF KKARMA    5.000000\n",
       "8528                    YOVISH    4.820000\n",
       "8533                      Zeal    4.800000\n",
       "8238                     CAVIO    4.760000\n",
       "8204        Allen Solly Junior    4.734375\n",
       "8291                    Fbella    4.714286\n",
       "8398                Nauti Nati    4.700000\n",
       "8269                    Divena    4.700000\n",
       "8272                      EVOQ    4.700000\n",
       "8452              SHOWOFF Plus    4.700000\n",
       "8320                 IVOC Plus    4.700000\n",
       "8213            Arrow New York    4.640000\n",
       "8358                  Lakshita    4.600000\n",
       "8518            WILD WEST Plus    4.600000\n",
       "8482          The Souled Store    4.600000\n",
       "8198                       AND    4.600000\n",
       "8471                StyleStone    4.600000"
      ]
     },
     "execution_count": 114,
     "metadata": {},
     "output_type": "execute_result"
    }
   ],
   "source": [
    "df_prod_brand[df_prod_brand[\"product_tag\"]==\"shirts\"][[\"brand_name\",\"avg_rating\"]].sort_values(\"avg_rating\", ascending = False).head(20)"
   ]
  },
  {
   "cell_type": "code",
   "execution_count": 78,
   "id": "0db9523c",
   "metadata": {},
   "outputs": [
    {
     "name": "stderr",
     "output_type": "stream",
     "text": [
      "C:\\Users\\GFG19189\\AppData\\Local\\Temp\\ipykernel_11944\\2229456876.py:1: FutureWarning: Indexing with multiple keys (implicitly converted to a tuple of keys) will be deprecated, use a list instead.\n",
      "  df_prod_brand_highest = df_prod_brand.groupby(\"product_tag\")[\"brand_name\",\"avg_rating\"].max().reset_index()\n"
     ]
    }
   ],
   "source": [
    "df_prod_brand_highest = df_prod_brand.groupby(\"product_tag\")[\"brand_name\",\"avg_rating\"].max().reset_index()"
   ]
  },
  {
   "cell_type": "code",
   "execution_count": 82,
   "id": "2862143b",
   "metadata": {},
   "outputs": [
    {
     "data": {
      "text/html": [
       "<div>\n",
       "<style scoped>\n",
       "    .dataframe tbody tr th:only-of-type {\n",
       "        vertical-align: middle;\n",
       "    }\n",
       "\n",
       "    .dataframe tbody tr th {\n",
       "        vertical-align: top;\n",
       "    }\n",
       "\n",
       "    .dataframe thead th {\n",
       "        text-align: right;\n",
       "    }\n",
       "</style>\n",
       "<table border=\"1\" class=\"dataframe\">\n",
       "  <thead>\n",
       "    <tr style=\"text-align: right;\">\n",
       "      <th></th>\n",
       "      <th>product_tag</th>\n",
       "      <th>brand_name</th>\n",
       "      <th>avg_rating</th>\n",
       "    </tr>\n",
       "  </thead>\n",
       "  <tbody>\n",
       "    <tr>\n",
       "      <th>0</th>\n",
       "      <td>accessory-gift-set</td>\n",
       "      <td>ZEVORA</td>\n",
       "      <td>4.794776</td>\n",
       "    </tr>\n",
       "    <tr>\n",
       "      <th>1</th>\n",
       "      <td>action-figures-and-play-set</td>\n",
       "      <td>Wembley Toys</td>\n",
       "      <td>3.600000</td>\n",
       "    </tr>\n",
       "    <tr>\n",
       "      <th>2</th>\n",
       "      <td>activity-toys-and-games</td>\n",
       "      <td>Wembley Toys</td>\n",
       "      <td>4.300000</td>\n",
       "    </tr>\n",
       "    <tr>\n",
       "      <th>3</th>\n",
       "      <td>air-fryer</td>\n",
       "      <td>Wonderchef</td>\n",
       "      <td>NaN</td>\n",
       "    </tr>\n",
       "    <tr>\n",
       "      <th>4</th>\n",
       "      <td>anklet</td>\n",
       "      <td>Zavya</td>\n",
       "      <td>4.500000</td>\n",
       "    </tr>\n",
       "    <tr>\n",
       "      <th>...</th>\n",
       "      <td>...</td>\n",
       "      <td>...</td>\n",
       "      <td>...</td>\n",
       "    </tr>\n",
       "    <tr>\n",
       "      <th>336</th>\n",
       "      <td>watches</td>\n",
       "      <td>ZINVO</td>\n",
       "      <td>4.870588</td>\n",
       "    </tr>\n",
       "    <tr>\n",
       "      <th>337</th>\n",
       "      <td>water-bottle</td>\n",
       "      <td>iSWEVEN</td>\n",
       "      <td>4.622115</td>\n",
       "    </tr>\n",
       "    <tr>\n",
       "      <th>338</th>\n",
       "      <td>windchimes</td>\n",
       "      <td>DULI</td>\n",
       "      <td>4.600000</td>\n",
       "    </tr>\n",
       "    <tr>\n",
       "      <th>339</th>\n",
       "      <td>wristbands</td>\n",
       "      <td>Puma</td>\n",
       "      <td>4.400000</td>\n",
       "    </tr>\n",
       "    <tr>\n",
       "      <th>340</th>\n",
       "      <td>yoga-mats</td>\n",
       "      <td>Sasimo</td>\n",
       "      <td>4.800000</td>\n",
       "    </tr>\n",
       "  </tbody>\n",
       "</table>\n",
       "<p>341 rows × 3 columns</p>\n",
       "</div>"
      ],
      "text/plain": [
       "                     product_tag    brand_name  avg_rating\n",
       "0             accessory-gift-set        ZEVORA    4.794776\n",
       "1    action-figures-and-play-set  Wembley Toys    3.600000\n",
       "2        activity-toys-and-games  Wembley Toys    4.300000\n",
       "3                      air-fryer    Wonderchef         NaN\n",
       "4                         anklet         Zavya    4.500000\n",
       "..                           ...           ...         ...\n",
       "336                      watches         ZINVO    4.870588\n",
       "337                 water-bottle       iSWEVEN    4.622115\n",
       "338                   windchimes          DULI    4.600000\n",
       "339                   wristbands          Puma    4.400000\n",
       "340                    yoga-mats        Sasimo    4.800000\n",
       "\n",
       "[341 rows x 3 columns]"
      ]
     },
     "execution_count": 82,
     "metadata": {},
     "output_type": "execute_result"
    }
   ],
   "source": [
    "df_prod_brand_highest"
   ]
  },
  {
   "cell_type": "code",
   "execution_count": 86,
   "id": "2d8b4d6e",
   "metadata": {},
   "outputs": [
    {
     "data": {
      "text/html": [
       "<div>\n",
       "<style scoped>\n",
       "    .dataframe tbody tr th:only-of-type {\n",
       "        vertical-align: middle;\n",
       "    }\n",
       "\n",
       "    .dataframe tbody tr th {\n",
       "        vertical-align: top;\n",
       "    }\n",
       "\n",
       "    .dataframe thead th {\n",
       "        text-align: right;\n",
       "    }\n",
       "</style>\n",
       "<table border=\"1\" class=\"dataframe\">\n",
       "  <thead>\n",
       "    <tr style=\"text-align: right;\">\n",
       "      <th></th>\n",
       "      <th>product_tag</th>\n",
       "      <th>brand_name</th>\n",
       "      <th>avg_rating</th>\n",
       "    </tr>\n",
       "  </thead>\n",
       "  <tbody>\n",
       "    <tr>\n",
       "      <th>193</th>\n",
       "      <td>lounge-tshirts</td>\n",
       "      <td>max</td>\n",
       "      <td>5.0</td>\n",
       "    </tr>\n",
       "    <tr>\n",
       "      <th>259</th>\n",
       "      <td>shirts</td>\n",
       "      <td>wild U</td>\n",
       "      <td>5.0</td>\n",
       "    </tr>\n",
       "    <tr>\n",
       "      <th>290</th>\n",
       "      <td>sweatshirts</td>\n",
       "      <td>zink Z</td>\n",
       "      <td>5.0</td>\n",
       "    </tr>\n",
       "    <tr>\n",
       "      <th>322</th>\n",
       "      <td>tshirts</td>\n",
       "      <td>zink Z</td>\n",
       "      <td>5.0</td>\n",
       "    </tr>\n",
       "  </tbody>\n",
       "</table>\n",
       "</div>"
      ],
      "text/plain": [
       "        product_tag brand_name  avg_rating\n",
       "193  lounge-tshirts        max         5.0\n",
       "259          shirts     wild U         5.0\n",
       "290     sweatshirts     zink Z         5.0\n",
       "322         tshirts     zink Z         5.0"
      ]
     },
     "execution_count": 86,
     "metadata": {},
     "output_type": "execute_result"
    }
   ],
   "source": [
    "df_prod_brand_highest[df_prod_brand_highest['product_tag'].str.contains(\"shirt\", case = False)]"
   ]
  },
  {
   "cell_type": "code",
   "execution_count": null,
   "id": "aea6484f",
   "metadata": {},
   "outputs": [],
   "source": []
  }
 ],
 "metadata": {
  "kernelspec": {
   "display_name": "Python 3 (ipykernel)",
   "language": "python",
   "name": "python3"
  },
  "language_info": {
   "codemirror_mode": {
    "name": "ipython",
    "version": 3
   },
   "file_extension": ".py",
   "mimetype": "text/x-python",
   "name": "python",
   "nbconvert_exporter": "python",
   "pygments_lexer": "ipython3",
   "version": "3.11.1"
  }
 },
 "nbformat": 4,
 "nbformat_minor": 5
}
