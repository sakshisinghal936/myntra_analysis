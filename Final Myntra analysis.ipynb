{
 "cells": [
  {
   "cell_type": "code",
   "execution_count": 16,
   "id": "68766962",
   "metadata": {},
   "outputs": [],
   "source": [
    "import pandas as pd\n",
    "import numpy as np\n",
    "import matplotlib.pyplot as plt\n",
    "import seaborn as sns"
   ]
  },
  {
   "cell_type": "code",
   "execution_count": 18,
   "id": "f51d6eff",
   "metadata": {},
   "outputs": [
    {
     "ename": "AttributeError",
     "evalue": "module 'matplotlib.pyplot' has no attribute '__version__'",
     "output_type": "error",
     "traceback": [
      "\u001b[1;31m---------------------------------------------------------------------------\u001b[0m",
      "\u001b[1;31mAttributeError\u001b[0m                            Traceback (most recent call last)",
      "Cell \u001b[1;32mIn[18], line 1\u001b[0m\n\u001b[1;32m----> 1\u001b[0m \u001b[43mplt\u001b[49m\u001b[38;5;241;43m.\u001b[39;49m\u001b[43m__version__\u001b[49m\n",
      "\u001b[1;31mAttributeError\u001b[0m: module 'matplotlib.pyplot' has no attribute '__version__'"
     ]
    }
   ],
   "source": [
    "plt.__version__"
   ]
  },
  {
   "cell_type": "code",
   "execution_count": 20,
   "id": "433be6e8",
   "metadata": {},
   "outputs": [
    {
     "name": "stderr",
     "output_type": "stream",
     "text": [
      "WARNING: Package(s) not found: matplotlib.pyplot\n"
     ]
    }
   ],
   "source": [
    " !pip show matplotlib.pyplot"
   ]
  },
  {
   "cell_type": "code",
   "execution_count": null,
   "id": "b066318a",
   "metadata": {},
   "outputs": [],
   "source": []
  },
  {
   "cell_type": "code",
   "execution_count": null,
   "id": "905d471b",
   "metadata": {},
   "outputs": [],
   "source": [
    "df = pd.read_csv(\"myntra_data.csv\")\n",
    "df.head()"
   ]
  },
  {
   "cell_type": "markdown",
   "id": "b540201d",
   "metadata": {},
   "source": [
    "# Data Cleaning\n",
    "1. Check duplicate rows and remove them and reset index after removing them.\n",
    "2. Check null values and remove them.\n",
    "3. Drop extra columns which are not useful for analysis.\n",
    "4. Add new column product id using information from product link.\n",
    "5. Remove common rows having same product id (since there is not much difference except other row has one extra rating count)"
   ]
  },
  {
   "cell_type": "code",
   "execution_count": null,
   "id": "5d5a6ffc",
   "metadata": {},
   "outputs": [],
   "source": [
    "df.shape"
   ]
  },
  {
   "cell_type": "code",
   "execution_count": null,
   "id": "2f1f2de5",
   "metadata": {},
   "outputs": [],
   "source": [
    "df = df.drop_duplicates().reset_index()"
   ]
  },
  {
   "cell_type": "code",
   "execution_count": null,
   "id": "8fb52018",
   "metadata": {},
   "outputs": [],
   "source": [
    "df.shape"
   ]
  },
  {
   "cell_type": "code",
   "execution_count": null,
   "id": "8ed87b33",
   "metadata": {},
   "outputs": [],
   "source": [
    "df.isnull().sum()"
   ]
  },
  {
   "cell_type": "markdown",
   "id": "2dd7fbfa",
   "metadata": {},
   "source": [
    "There is no null values in the given data. "
   ]
  },
  {
   "cell_type": "code",
   "execution_count": null,
   "id": "cd05b75e",
   "metadata": {},
   "outputs": [],
   "source": [
    "df.describe()"
   ]
  },
  {
   "cell_type": "code",
   "execution_count": null,
   "id": "48f3e66e",
   "metadata": {},
   "outputs": [],
   "source": [
    "df = df.drop([\"img_link\", \"brand_tag\", \"index\"], axis = 1)"
   ]
  },
  {
   "cell_type": "code",
   "execution_count": null,
   "id": "ae1d23ff",
   "metadata": {},
   "outputs": [],
   "source": [
    "df.shape"
   ]
  },
  {
   "cell_type": "code",
   "execution_count": null,
   "id": "27fa2b6d",
   "metadata": {},
   "outputs": [],
   "source": [
    "df[\"product_link\"] = df[\"product_link\"].str.split(\"/\")"
   ]
  },
  {
   "cell_type": "code",
   "execution_count": null,
   "id": "e37500b2",
   "metadata": {},
   "outputs": [],
   "source": [
    "df[\"product_link\"][0]"
   ]
  },
  {
   "cell_type": "code",
   "execution_count": null,
   "id": "406345ed",
   "metadata": {},
   "outputs": [],
   "source": [
    "list = [df[\"product_link\"][i][3] for i in range(len(df[\"product_link\"]))]"
   ]
  },
  {
   "cell_type": "code",
   "execution_count": null,
   "id": "4f9c280e",
   "metadata": {},
   "outputs": [],
   "source": [
    "product = pd.Series(list)\n",
    "df[\"Product_id\"]= product.values"
   ]
  },
  {
   "cell_type": "code",
   "execution_count": null,
   "id": "42599195",
   "metadata": {},
   "outputs": [],
   "source": [
    "df =df.loc[:,[\"Product_id\",\"product_name\",\"brand_name\",\"rating\",\"rating_count\",\"marked_price\",\"discounted_price\",\"discount_amount\",\"discount_percent\",\"sizes\",\"product_link\",\"product_tag\"]]"
   ]
  },
  {
   "cell_type": "code",
   "execution_count": null,
   "id": "37969cb3",
   "metadata": {},
   "outputs": [],
   "source": [
    "df = df.drop(\"product_link\", axis = 1)"
   ]
  },
  {
   "cell_type": "code",
   "execution_count": null,
   "id": "bfde65ff",
   "metadata": {},
   "outputs": [],
   "source": [
    "df.value_counts(\"Product_id\")"
   ]
  },
  {
   "cell_type": "code",
   "execution_count": null,
   "id": "465270b2",
   "metadata": {},
   "outputs": [],
   "source": [
    "df[df[\"Product_id\"]==\"14984314\"]"
   ]
  },
  {
   "cell_type": "code",
   "execution_count": null,
   "id": "de8dfdf0",
   "metadata": {},
   "outputs": [],
   "source": [
    "df.shape"
   ]
  },
  {
   "cell_type": "code",
   "execution_count": null,
   "id": "3d2ee3ad",
   "metadata": {},
   "outputs": [],
   "source": [
    "df = df.drop_duplicates(\"Product_id\")"
   ]
  },
  {
   "cell_type": "code",
   "execution_count": null,
   "id": "8cbc4c30",
   "metadata": {},
   "outputs": [],
   "source": [
    "df.shape"
   ]
  },
  {
   "cell_type": "code",
   "execution_count": null,
   "id": "65290b5f",
   "metadata": {},
   "outputs": [],
   "source": [
    "df.info()"
   ]
  },
  {
   "cell_type": "markdown",
   "id": "58ba82d0",
   "metadata": {},
   "source": [
    "# Univariate Analysis"
   ]
  },
  {
   "cell_type": "code",
   "execution_count": null,
   "id": "8bc00b85",
   "metadata": {
    "scrolled": true
   },
   "outputs": [],
   "source": [
    "df.head(2)"
   ]
  },
  {
   "cell_type": "code",
   "execution_count": null,
   "id": "2df062cb",
   "metadata": {},
   "outputs": [],
   "source": [
    "df.nunique()"
   ]
  },
  {
   "cell_type": "markdown",
   "id": "4d3bd058",
   "metadata": {},
   "source": [
    "Product_name, brand_name, sizes and product_tag are categorical columns and remaining ones are numerical."
   ]
  },
  {
   "cell_type": "code",
   "execution_count": null,
   "id": "5efb65ec",
   "metadata": {},
   "outputs": [],
   "source": [
    "df[\"product_name\"].value_counts()"
   ]
  },
  {
   "cell_type": "code",
   "execution_count": null,
   "id": "2ac6efba",
   "metadata": {},
   "outputs": [],
   "source": [
    "df_tag = df[\"product_tag\"].value_counts().to_frame().reset_index().rename(columns = {\"index\":\"product_tag\", \"product_tag\":\"count\"})"
   ]
  },
  {
   "cell_type": "code",
   "execution_count": null,
   "id": "a9c9ea3e",
   "metadata": {},
   "outputs": [],
   "source": [
    "df_tag[df_tag[\"count\"]>1000].plot(kind = \"bar\", x = \"product_tag\")"
   ]
  },
  {
   "cell_type": "code",
   "execution_count": null,
   "id": "b6222ecc",
   "metadata": {},
   "outputs": [],
   "source": [
    "df[\"sizes\"].value_counts()"
   ]
  },
  {
   "cell_type": "code",
   "execution_count": null,
   "id": "0ec5330a",
   "metadata": {},
   "outputs": [],
   "source": [
    "df.head(2)"
   ]
  },
  {
   "cell_type": "code",
   "execution_count": null,
   "id": "7c2fb760",
   "metadata": {},
   "outputs": [],
   "source": [
    "plt.figure(figsize = (12,4))\n",
    "plt.subplot(1,2,1)\n",
    "sns.distplot(df[\"rating\"])\n",
    "plt.subplot(1,2,2)\n",
    "sns.histplot(df[\"rating\"])\n",
    "plt.show()"
   ]
  },
  {
   "cell_type": "code",
   "execution_count": null,
   "id": "ed48a946",
   "metadata": {},
   "outputs": [],
   "source": [
    "sns.distplot(df[df[\"rating\"]!=0][\"rating\"])"
   ]
  },
  {
   "cell_type": "code",
   "execution_count": null,
   "id": "80d9dfac",
   "metadata": {},
   "outputs": [],
   "source": [
    "plt.figure(figsize = (12,4))\n",
    "plt.subplot(1,2,1)\n",
    "sns.distplot(df[\"marked_price\"])\n",
    "plt.subplot(1,2,2)\n",
    "sns.distplot(df[\"discount_amount\"])\n",
    "plt.show()"
   ]
  },
  {
   "cell_type": "code",
   "execution_count": null,
   "id": "eec93f88",
   "metadata": {
    "scrolled": false
   },
   "outputs": [],
   "source": [
    "df[\"discount_percent\"].value_counts()"
   ]
  },
  {
   "cell_type": "markdown",
   "id": "ab628225",
   "metadata": {},
   "source": [
    "# Analysis for brand"
   ]
  },
  {
   "cell_type": "markdown",
   "id": "ed0d3b08",
   "metadata": {},
   "source": [
    "### Top 10 brands with highest number of products in the dataset"
   ]
  },
  {
   "cell_type": "code",
   "execution_count": null,
   "id": "1ff0bdc1",
   "metadata": {},
   "outputs": [],
   "source": [
    "df[\"brand_name\"].value_counts().head(10).plot(kind = \"bar\")"
   ]
  },
  {
   "cell_type": "markdown",
   "id": "a0ff0a02",
   "metadata": {},
   "source": [
    "###  Find each brand average rating."
   ]
  },
  {
   "cell_type": "code",
   "execution_count": null,
   "id": "d63be3c5",
   "metadata": {},
   "outputs": [],
   "source": [
    "df_new = df\n",
    "df_new[\"rating_prod\"] = df_new[\"rating\"]*df_new[\"rating_count\"]\n",
    "brand_rating=df_new.groupby(\"brand_name\")[\"rating_prod\",\"rating_count\"].sum().reset_index()"
   ]
  },
  {
   "cell_type": "code",
   "execution_count": null,
   "id": "7c4693a1",
   "metadata": {},
   "outputs": [],
   "source": [
    "brand_rating[\"average_rating\"]=brand_rating[\"rating_prod\"]/brand_rating[\"rating_count\"]"
   ]
  },
  {
   "cell_type": "code",
   "execution_count": null,
   "id": "6fdbf31f",
   "metadata": {},
   "outputs": [],
   "source": [
    "brand_rating = brand_rating.drop(\"rating_prod\", axis =1)"
   ]
  },
  {
   "cell_type": "code",
   "execution_count": null,
   "id": "aa0a0754",
   "metadata": {},
   "outputs": [],
   "source": [
    "brand_rating"
   ]
  },
  {
   "cell_type": "code",
   "execution_count": null,
   "id": "046d967d",
   "metadata": {},
   "outputs": [],
   "source": [
    "brand_rating[\"average_rating\"].isnull().sum()"
   ]
  },
  {
   "cell_type": "code",
   "execution_count": null,
   "id": "f7a2f974",
   "metadata": {},
   "outputs": [],
   "source": [
    "brand_rating.dropna(subset = [\"average_rating\"], inplace = True)"
   ]
  },
  {
   "cell_type": "markdown",
   "id": "87a28fb8",
   "metadata": {},
   "source": [
    "### Popular brand"
   ]
  },
  {
   "cell_type": "code",
   "execution_count": null,
   "id": "c70acb0a",
   "metadata": {},
   "outputs": [],
   "source": [
    "brand_rating.sort_values([\"rating_count\",\"average_rating\"], ascending = False)"
   ]
  },
  {
   "cell_type": "markdown",
   "id": "68e5de08",
   "metadata": {},
   "source": [
    "From this we can conclude, Roadster is the most selling brand."
   ]
  },
  {
   "cell_type": "code",
   "execution_count": null,
   "id": "b6cc244c",
   "metadata": {},
   "outputs": [],
   "source": [
    "sns.barplot(data = brand_rating.sort_values([\"rating_count\",\"average_rating\"], ascending = False).head(15), x = \"brand_name\", y = \"rating_count\")\n",
    "plt.xticks(rotation =90)\n",
    "plt.show()"
   ]
  },
  {
   "cell_type": "code",
   "execution_count": null,
   "id": "1cd0b510",
   "metadata": {
    "scrolled": true
   },
   "outputs": [],
   "source": [
    "sns.barplot(data = brand_rating.sort_values([\"rating_count\",\"average_rating\"], ascending = False).head(15), x = \"brand_name\", y = \"average_rating\")\n",
    "plt.xticks(rotation =90)\n",
    "plt.show()"
   ]
  },
  {
   "cell_type": "markdown",
   "id": "f9fbc089",
   "metadata": {},
   "source": [
    "### How many brands have average rating greater than 4 or 4.5?"
   ]
  },
  {
   "cell_type": "code",
   "execution_count": null,
   "id": "10b18fe7",
   "metadata": {},
   "outputs": [],
   "source": [
    "bins = (0,0.5,1,1.5,2,2.5,3,3.5,4,4.5,5)\n",
    "brand_rating[\"average_rating\"].value_counts(bins = bins).plot(kind = \"pie\", autopct = \"%.2f\")"
   ]
  },
  {
   "cell_type": "markdown",
   "id": "2e6e9366",
   "metadata": {},
   "source": [
    "76% of brands have average rating greater than 4."
   ]
  },
  {
   "cell_type": "code",
   "execution_count": null,
   "id": "fea877dd",
   "metadata": {},
   "outputs": [],
   "source": [
    "brand_rating[brand_rating[\"average_rating\"]<2]"
   ]
  },
  {
   "cell_type": "markdown",
   "id": "e2009d21",
   "metadata": {},
   "source": [
    "These are the brands which have rating less than 2 and we can see that they have very less rating_count so not many people bought products from these brands."
   ]
  },
  {
   "cell_type": "code",
   "execution_count": null,
   "id": "f9ab6d97",
   "metadata": {},
   "outputs": [],
   "source": [
    "df[\"brand_name\"].value_counts()"
   ]
  },
  {
   "cell_type": "code",
   "execution_count": null,
   "id": "aba0b57b",
   "metadata": {},
   "outputs": [],
   "source": [
    "df[df[\"rating_count\"]==0.0][\"brand_name\"].value_counts()"
   ]
  },
  {
   "cell_type": "code",
   "execution_count": null,
   "id": "6ec6c9c6",
   "metadata": {},
   "outputs": [],
   "source": [
    "len(df[df[\"brand_name\"]==\"max\"])"
   ]
  },
  {
   "cell_type": "markdown",
   "id": "f2bdc440",
   "metadata": {},
   "source": [
    "We can conclude, Max is the brand which has maximum number of products which does not have any rating. That means max have maximum non-selling products."
   ]
  },
  {
   "cell_type": "markdown",
   "id": "453c02be",
   "metadata": {},
   "source": [
    "### FInd the brand market size"
   ]
  },
  {
   "cell_type": "code",
   "execution_count": null,
   "id": "9b566c52",
   "metadata": {},
   "outputs": [],
   "source": [
    "df_new = df\n",
    "df_new[\"sales_value\"] = df_new[\"discounted_price\"]*df_new[\"rating_count\"]\n",
    "brand_marketsize=df_new.groupby(\"brand_name\")[\"sales_value\",\"rating_count\"].sum().reset_index()"
   ]
  },
  {
   "cell_type": "code",
   "execution_count": null,
   "id": "1f6ca1de",
   "metadata": {},
   "outputs": [],
   "source": [
    "brand_marketsize.sort_values(\"sales_value\", ascending = False)"
   ]
  },
  {
   "cell_type": "code",
   "execution_count": null,
   "id": "63d00c43",
   "metadata": {
    "scrolled": true
   },
   "outputs": [],
   "source": [
    "sns.barplot(data = brand_marketsize.sort_values(\"sales_value\", ascending = False).head(10), x= \"brand_name\", y = \"sales_value\")\n",
    "plt.xticks(rotation = 90)\n",
    "plt.show()"
   ]
  },
  {
   "cell_type": "markdown",
   "id": "c29bde61",
   "metadata": {},
   "source": [
    "Further questions which we can work on\n",
    "\n",
    "(i) Which brands give maximum discount?\n"
   ]
  },
  {
   "cell_type": "markdown",
   "id": "13d02cc5",
   "metadata": {},
   "source": [
    "### Relationship between sales value and discount_percent for brands"
   ]
  },
  {
   "cell_type": "code",
   "execution_count": null,
   "id": "faf6177d",
   "metadata": {},
   "outputs": [],
   "source": [
    "df_new = df\n",
    "df_new[\"sales_value\"] = df_new[\"discounted_price\"]*df_new[\"rating_count\"]\n",
    "brand_discounts_sales = df_new.groupby(\"brand_name\").agg({'discount_percent': 'mean', 'sales_value': 'sum'}).reset_index()"
   ]
  },
  {
   "cell_type": "code",
   "execution_count": null,
   "id": "6b1aa45e",
   "metadata": {},
   "outputs": [],
   "source": [
    "brand_discounts_sales"
   ]
  },
  {
   "cell_type": "code",
   "execution_count": null,
   "id": "e689af0f",
   "metadata": {
    "scrolled": true
   },
   "outputs": [],
   "source": [
    "sns.scatterplot(data = brand_discounts_sales, x=\"discount_percent\" , y= \"sales_value\")"
   ]
  },
  {
   "cell_type": "markdown",
   "id": "153df5b7",
   "metadata": {},
   "source": [
    "Increase in discount percent in brand does not imply increase in sales value."
   ]
  },
  {
   "cell_type": "code",
   "execution_count": null,
   "id": "378f675d",
   "metadata": {},
   "outputs": [],
   "source": [
    "sns.barplot(data = brand_discounts_sales.sort_values(\"discount_percent\", ascending = False).head(20), x=\"brand_name\" , y= \"discount_percent\")\n",
    "plt.xticks(rotation = 90)\n",
    "plt.show()"
   ]
  },
  {
   "cell_type": "markdown",
   "id": "1649eff6",
   "metadata": {},
   "source": [
    "# Analysis for product"
   ]
  },
  {
   "cell_type": "code",
   "execution_count": null,
   "id": "d68c50d6",
   "metadata": {},
   "outputs": [],
   "source": [
    "prod_name = input()\n",
    "df_new2 = df[df['product_name'].str.contains(prod_name, case = False)]\n",
    "max_price = df_new2[df_new2[\"discounted_price\"] == df_new2[\"discounted_price\"].max()]\n",
    "min_price = df_new2[df_new2[\"discounted_price\"] == df_new2[\"discounted_price\"].min()]\n",
    "max_rating = df_new2[df_new2[\"rating\"] == df_new2[\"rating\"].max()]\n",
    "print(\"Details of product \" + prod_name + \" having maximum price\")\n",
    "display(max_price)\n",
    "print(\"Details of product \" + prod_name + \" having minimum price\")\n",
    "display(min_price)\n",
    "print(\" Maximum rating product \" + prod_name + \" details\")\n",
    "display(max_rating)"
   ]
  },
  {
   "cell_type": "markdown",
   "id": "d9b2142b",
   "metadata": {},
   "source": [
    "### Product market size, average rating and discount percent"
   ]
  },
  {
   "cell_type": "code",
   "execution_count": null,
   "id": "4da91a09",
   "metadata": {},
   "outputs": [],
   "source": [
    "df_new = df\n",
    "df_new[\"sales_value\"] = df_new[\"discounted_price\"]*df_new[\"rating_count\"]\n",
    "df_new[\"rating_prod\"] = df_new[\"rating\"]*df_new[\"rating_count\"]\n",
    "product_discounts_sales = df_new.groupby(\"product_tag\").agg({'discount_percent': 'mean', 'sales_value': 'sum', \"rating_prod\":\"sum\", \"rating_count\":\"sum\"}).reset_index()"
   ]
  },
  {
   "cell_type": "code",
   "execution_count": null,
   "id": "596d0fd2",
   "metadata": {},
   "outputs": [],
   "source": [
    "product_discounts_sales[\"average_rating\"] = product_discounts_sales[\"rating_prod\"]/product_discounts_sales[\"rating_count\"] \n",
    "product_discounts_sales = product_discounts_sales.drop(\"rating_prod\", axis = 1)"
   ]
  },
  {
   "cell_type": "code",
   "execution_count": null,
   "id": "77aed594",
   "metadata": {
    "scrolled": true
   },
   "outputs": [],
   "source": [
    "product_discounts_sales "
   ]
  },
  {
   "cell_type": "code",
   "execution_count": null,
   "id": "72116bb7",
   "metadata": {},
   "outputs": [],
   "source": [
    "sns.barplot(data = product_discounts_sales.sort_values(\"sales_value\", ascending = False).head(10), x = \"product_tag\", y = \"sales_value\" )\n",
    "plt.xticks(rotation = 90)\n",
    "plt.show()"
   ]
  },
  {
   "cell_type": "code",
   "execution_count": null,
   "id": "85f1d8af",
   "metadata": {},
   "outputs": [],
   "source": [
    "sns.barplot(data = product_discounts_sales.sort_values(\"average_rating\", ascending = False).head(10), x = \"product_tag\", y = \"average_rating\" )\n",
    "plt.xticks(rotation = 90)\n",
    "plt.show()"
   ]
  },
  {
   "cell_type": "code",
   "execution_count": null,
   "id": "a9461141",
   "metadata": {},
   "outputs": [],
   "source": [
    "plt.figure(figsize = (10,4))\n",
    "plt.subplot(1,2,1)\n",
    "sns.scatterplot(data = product_discounts_sales, x=\"discount_percent\" , y= \"sales_value\")\n",
    "plt.subplot(1,2,2)\n",
    "sns.scatterplot(data = product_discounts_sales, x=\"average_rating\" , y= \"sales_value\")"
   ]
  },
  {
   "cell_type": "markdown",
   "id": "7416c1e1",
   "metadata": {},
   "source": [
    "### How does the average discount percent vary across different product tags?"
   ]
  },
  {
   "cell_type": "code",
   "execution_count": null,
   "id": "9d1138d0",
   "metadata": {
    "scrolled": true
   },
   "outputs": [],
   "source": [
    "sns.distplot(product_discounts_sales[\"discount_percent\"] )"
   ]
  },
  {
   "cell_type": "markdown",
   "id": "ac3a4832",
   "metadata": {},
   "source": [
    "### Are there any correlations between the rating, discount percent, and sales value of the products?"
   ]
  },
  {
   "cell_type": "code",
   "execution_count": null,
   "id": "7eaa6d16",
   "metadata": {},
   "outputs": [],
   "source": [
    "product_discounts_sales.corr() "
   ]
  },
  {
   "cell_type": "code",
   "execution_count": null,
   "id": "5aa9e5d4",
   "metadata": {},
   "outputs": [],
   "source": [
    "sns.heatmap(product_discounts_sales.corr(), cmap = \"coolwarm\" )"
   ]
  },
  {
   "cell_type": "markdown",
   "id": "44c16079",
   "metadata": {},
   "source": [
    "### Which brand has the highest average rating among different products?"
   ]
  },
  {
   "cell_type": "code",
   "execution_count": null,
   "id": "6211a750",
   "metadata": {},
   "outputs": [],
   "source": [
    "df.head(2)"
   ]
  },
  {
   "cell_type": "code",
   "execution_count": null,
   "id": "3c53e859",
   "metadata": {},
   "outputs": [],
   "source": [
    "df_prod_brand = df.groupby([\"product_tag\", \"brand_name\"]).sum()"
   ]
  },
  {
   "cell_type": "code",
   "execution_count": null,
   "id": "a3db4906",
   "metadata": {},
   "outputs": [],
   "source": [
    "df_prod_brand[\"avg_rating\"] = df_prod_brand[\"rating_prod\"]/df_prod_brand[\"rating_count\"]"
   ]
  },
  {
   "cell_type": "code",
   "execution_count": null,
   "id": "acea3de5",
   "metadata": {
    "scrolled": true
   },
   "outputs": [],
   "source": [
    "df_prod_brand = df_prod_brand.reset_index()"
   ]
  },
  {
   "cell_type": "code",
   "execution_count": null,
   "id": "ba8c9d5a",
   "metadata": {},
   "outputs": [],
   "source": [
    "df_prod_brand"
   ]
  },
  {
   "cell_type": "code",
   "execution_count": null,
   "id": "7374161b",
   "metadata": {},
   "outputs": [],
   "source": [
    "df_prod_brand[\"product_tag\"].unique()"
   ]
  },
  {
   "cell_type": "code",
   "execution_count": null,
   "id": "3650ec0d",
   "metadata": {},
   "outputs": [],
   "source": [
    "df_prod_brand[df_prod_brand[\"product_tag\"]==\"shirts\"][[\"brand_name\",\"avg_rating\"]].sort_values(\"avg_rating\", ascending = False).head(20)"
   ]
  },
  {
   "cell_type": "code",
   "execution_count": null,
   "id": "0db9523c",
   "metadata": {},
   "outputs": [],
   "source": [
    "df_prod_brand_highest = df_prod_brand.groupby(\"product_tag\")[\"brand_name\",\"avg_rating\"].max().reset_index()"
   ]
  },
  {
   "cell_type": "code",
   "execution_count": null,
   "id": "2862143b",
   "metadata": {},
   "outputs": [],
   "source": [
    "df_prod_brand_highest"
   ]
  },
  {
   "cell_type": "code",
   "execution_count": null,
   "id": "2d8b4d6e",
   "metadata": {},
   "outputs": [],
   "source": [
    "df_prod_brand_highest[df_prod_brand_highest['product_tag'].str.contains(\"shirt\", case = False)]"
   ]
  },
  {
   "cell_type": "code",
   "execution_count": null,
   "id": "aea6484f",
   "metadata": {},
   "outputs": [],
   "source": [
    "df_prod_brand_highest[df_prod_brand_highest[\"brand_name\"] == \"Puma\"]"
   ]
  }
 ],
 "metadata": {
  "kernelspec": {
   "display_name": "Python 3 (ipykernel)",
   "language": "python",
   "name": "python3"
  },
  "language_info": {
   "codemirror_mode": {
    "name": "ipython",
    "version": 3
   },
   "file_extension": ".py",
   "mimetype": "text/x-python",
   "name": "python",
   "nbconvert_exporter": "python",
   "pygments_lexer": "ipython3",
   "version": "3.11.1"
  }
 },
 "nbformat": 4,
 "nbformat_minor": 5
}
